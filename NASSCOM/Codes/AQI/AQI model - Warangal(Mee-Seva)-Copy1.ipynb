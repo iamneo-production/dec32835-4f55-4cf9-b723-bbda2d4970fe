{
 "cells": [
  {
   "cell_type": "code",
   "execution_count": 141,
   "id": "4eea3dc1",
   "metadata": {},
   "outputs": [],
   "source": [
    "import numpy as np\n",
    "import pandas as pd\n",
    "from keras.models import Sequential\n",
    "from keras.layers import Dense\n",
    "from keras.layers import LSTM\n",
    "import matplotlib.pyplot as plt\n",
    "from sklearn.model_selection import train_test_split"
   ]
  },
  {
   "cell_type": "code",
   "execution_count": 142,
   "id": "f2d32561",
   "metadata": {},
   "outputs": [],
   "source": [
    "data16=pd.read_excel(\"AQI 2016 (1).xls\")"
   ]
  },
  {
   "cell_type": "code",
   "execution_count": 143,
   "id": "82755604",
   "metadata": {},
   "outputs": [],
   "source": [
    "data17=pd.read_excel(\"AQI 2017.xlsx\")"
   ]
  },
  {
   "cell_type": "code",
   "execution_count": 144,
   "id": "10f1db35",
   "metadata": {},
   "outputs": [],
   "source": [
    "data18=pd.read_excel(\"2018_AQI.xlsx\")"
   ]
  },
  {
   "cell_type": "code",
   "execution_count": 145,
   "id": "d92b2fb5",
   "metadata": {},
   "outputs": [],
   "source": [
    "data19=pd.read_excel(\"2019_AQI.xlsx\")"
   ]
  },
  {
   "cell_type": "code",
   "execution_count": 146,
   "id": "eb0ccdf6",
   "metadata": {},
   "outputs": [],
   "source": [
    "data20=pd.read_excel(\"2020_AQI.xlsx\")"
   ]
  },
  {
   "cell_type": "code",
   "execution_count": 147,
   "id": "0d5925b0",
   "metadata": {},
   "outputs": [],
   "source": [
    "data21=pd.read_excel(\"2021_AQI.xlsx\")"
   ]
  },
  {
   "cell_type": "code",
   "execution_count": 148,
   "id": "1f3278ea",
   "metadata": {},
   "outputs": [],
   "source": [
    "data22=pd.read_excel(\"2022_AQI.xlsx\")"
   ]
  },
  {
   "cell_type": "code",
   "execution_count": 149,
   "id": "bb32692f",
   "metadata": {},
   "outputs": [
    {
     "data": {
      "text/html": [
       "<div>\n",
       "<style scoped>\n",
       "    .dataframe tbody tr th:only-of-type {\n",
       "        vertical-align: middle;\n",
       "    }\n",
       "\n",
       "    .dataframe tbody tr th {\n",
       "        vertical-align: top;\n",
       "    }\n",
       "\n",
       "    .dataframe thead th {\n",
       "        text-align: right;\n",
       "    }\n",
       "</style>\n",
       "<table border=\"1\" class=\"dataframe\">\n",
       "  <thead>\n",
       "    <tr style=\"text-align: right;\">\n",
       "      <th></th>\n",
       "      <th>Location</th>\n",
       "      <th>2022-01-01 00:00:00</th>\n",
       "      <th>2022-02-01 00:00:00</th>\n",
       "      <th>2022-03-01 00:00:00</th>\n",
       "      <th>2022-04-01 00:00:00</th>\n",
       "      <th>2022-05-01 00:00:00</th>\n",
       "      <th>2022-06-01 00:00:00</th>\n",
       "      <th>2022-07-01 00:00:00</th>\n",
       "      <th>2022-08-01 00:00:00</th>\n",
       "      <th>2022-09-01 00:00:00</th>\n",
       "      <th>2022-10-01 00:00:00</th>\n",
       "      <th>2022-11-01 00:00:00</th>\n",
       "      <th>2022-12-01 00:00:00</th>\n",
       "    </tr>\n",
       "  </thead>\n",
       "  <tbody>\n",
       "    <tr>\n",
       "      <th>0</th>\n",
       "      <td>Nizamabad</td>\n",
       "      <td>56</td>\n",
       "      <td>59.000000</td>\n",
       "      <td>64.000000</td>\n",
       "      <td>58.000000</td>\n",
       "      <td>56.222222</td>\n",
       "      <td>54</td>\n",
       "      <td>46.000000</td>\n",
       "      <td>53</td>\n",
       "      <td>54</td>\n",
       "      <td>63</td>\n",
       "      <td>56</td>\n",
       "      <td>59</td>\n",
       "    </tr>\n",
       "    <tr>\n",
       "      <th>1</th>\n",
       "      <td>Adilabad</td>\n",
       "      <td>54</td>\n",
       "      <td>55.000000</td>\n",
       "      <td>56.000000</td>\n",
       "      <td>65.000000</td>\n",
       "      <td>60.148148</td>\n",
       "      <td>58</td>\n",
       "      <td>48.000000</td>\n",
       "      <td>56</td>\n",
       "      <td>56</td>\n",
       "      <td>65</td>\n",
       "      <td>58</td>\n",
       "      <td>62</td>\n",
       "    </tr>\n",
       "    <tr>\n",
       "      <th>2</th>\n",
       "      <td>Kuda, warangal</td>\n",
       "      <td>58</td>\n",
       "      <td>64.000000</td>\n",
       "      <td>49.105826</td>\n",
       "      <td>66.173930</td>\n",
       "      <td>53.704530</td>\n",
       "      <td>72</td>\n",
       "      <td>40.428571</td>\n",
       "      <td>43</td>\n",
       "      <td>41</td>\n",
       "      <td>64</td>\n",
       "      <td>49</td>\n",
       "      <td>116</td>\n",
       "    </tr>\n",
       "    <tr>\n",
       "      <th>3</th>\n",
       "      <td>Mee-Seva, Warangal</td>\n",
       "      <td>73</td>\n",
       "      <td>72.514053</td>\n",
       "      <td>76.057747</td>\n",
       "      <td>60.080031</td>\n",
       "      <td>77.094650</td>\n",
       "      <td>85</td>\n",
       "      <td>47.268637</td>\n",
       "      <td>56</td>\n",
       "      <td>48</td>\n",
       "      <td>64</td>\n",
       "      <td>94</td>\n",
       "      <td>94</td>\n",
       "    </tr>\n",
       "    <tr>\n",
       "      <th>4</th>\n",
       "      <td>Karimnagar</td>\n",
       "      <td>82</td>\n",
       "      <td>90.333333</td>\n",
       "      <td>95.666667</td>\n",
       "      <td>69.926215</td>\n",
       "      <td>76.241282</td>\n",
       "      <td>89</td>\n",
       "      <td>69.197791</td>\n",
       "      <td>55</td>\n",
       "      <td>58</td>\n",
       "      <td>63</td>\n",
       "      <td>101</td>\n",
       "      <td>126</td>\n",
       "    </tr>\n",
       "    <tr>\n",
       "      <th>5</th>\n",
       "      <td>Khammam</td>\n",
       "      <td>80</td>\n",
       "      <td>78.079300</td>\n",
       "      <td>76.518519</td>\n",
       "      <td>79.365731</td>\n",
       "      <td>76.611111</td>\n",
       "      <td>81</td>\n",
       "      <td>72.500000</td>\n",
       "      <td>58</td>\n",
       "      <td>42</td>\n",
       "      <td>57</td>\n",
       "      <td>78</td>\n",
       "      <td>115</td>\n",
       "    </tr>\n",
       "  </tbody>\n",
       "</table>\n",
       "</div>"
      ],
      "text/plain": [
       "             Location  2022-01-01 00:00:00  2022-02-01 00:00:00  \\\n",
       "0           Nizamabad                   56            59.000000   \n",
       "1            Adilabad                   54            55.000000   \n",
       "2      Kuda, warangal                   58            64.000000   \n",
       "3  Mee-Seva, Warangal                   73            72.514053   \n",
       "4          Karimnagar                   82            90.333333   \n",
       "5             Khammam                   80            78.079300   \n",
       "\n",
       "   2022-03-01 00:00:00  2022-04-01 00:00:00  2022-05-01 00:00:00  \\\n",
       "0            64.000000            58.000000            56.222222   \n",
       "1            56.000000            65.000000            60.148148   \n",
       "2            49.105826            66.173930            53.704530   \n",
       "3            76.057747            60.080031            77.094650   \n",
       "4            95.666667            69.926215            76.241282   \n",
       "5            76.518519            79.365731            76.611111   \n",
       "\n",
       "   2022-06-01 00:00:00  2022-07-01 00:00:00  2022-08-01 00:00:00  \\\n",
       "0                   54            46.000000                   53   \n",
       "1                   58            48.000000                   56   \n",
       "2                   72            40.428571                   43   \n",
       "3                   85            47.268637                   56   \n",
       "4                   89            69.197791                   55   \n",
       "5                   81            72.500000                   58   \n",
       "\n",
       "   2022-09-01 00:00:00  2022-10-01 00:00:00  2022-11-01 00:00:00  \\\n",
       "0                   54                   63                   56   \n",
       "1                   56                   65                   58   \n",
       "2                   41                   64                   49   \n",
       "3                   48                   64                   94   \n",
       "4                   58                   63                  101   \n",
       "5                   42                   57                   78   \n",
       "\n",
       "   2022-12-01 00:00:00  \n",
       "0                   59  \n",
       "1                   62  \n",
       "2                  116  \n",
       "3                   94  \n",
       "4                  126  \n",
       "5                  115  "
      ]
     },
     "execution_count": 149,
     "metadata": {},
     "output_type": "execute_result"
    }
   ],
   "source": [
    "data22"
   ]
  },
  {
   "cell_type": "markdown",
   "id": "c7fe681f",
   "metadata": {},
   "source": [
    "# Dataset of Khammam"
   ]
  },
  {
   "cell_type": "code",
   "execution_count": 150,
   "id": "202940e6",
   "metadata": {},
   "outputs": [
    {
     "data": {
      "text/plain": [
       "[75.77777777777777,\n",
       " 72.11111111111111,\n",
       " 63.111111111111114,\n",
       " 73.37037037037038,\n",
       " 84.11111111111111,\n",
       " 68.33333333333333,\n",
       " 63.229166666666664,\n",
       " 38.166666666666664,\n",
       " 51.666666666666664,\n",
       " 60.75,\n",
       " 83.44444444444444,\n",
       " 84,\n",
       " 75.88888888888889,\n",
       " 77.85185185185185,\n",
       " 70.77777777777777,\n",
       " 71.99999999999999,\n",
       " 68.04166666666667,\n",
       " 61.166666666666664,\n",
       " 47.5,\n",
       " 59.541666666666664,\n",
       " 61.57142857142857,\n",
       " 62.46296296296297,\n",
       " 75.51851851851852,\n",
       " 77.70370370370371,\n",
       " 94.1111111111111,\n",
       " 96.4444444444444,\n",
       " 79.2222222222222,\n",
       " 82.6666666666667,\n",
       " 81.1111111111111,\n",
       " 83.8888888888889,\n",
       " 69.5,\n",
       " 72.8333333333333,\n",
       " 80.0659859042128,\n",
       " 89.281508700092,\n",
       " 94.2222222222222,\n",
       " 88,\n",
       " 90.5555555555556,\n",
       " 90.8148148148148,\n",
       " 92.1481481481481,\n",
       " 89.0561301460369,\n",
       " 93.0740740740741,\n",
       " 85.6481481481482,\n",
       " 86.8703703703704,\n",
       " 79.875,\n",
       " 72.9166666666667,\n",
       " 85.3333333333333,\n",
       " 90.5925925925926,\n",
       " 87.2592592592593,\n",
       " 89.0,\n",
       " 88.0,\n",
       " 74.0,\n",
       " 41.0,\n",
       " 65,\n",
       " 58.25,\n",
       " 67,\n",
       " 60.8,\n",
       " 55,\n",
       " 61,\n",
       " 91.8888888888889,\n",
       " 91.4444444444444,\n",
       " 81.2592592592593,\n",
       " 88,\n",
       " 75,\n",
       " 71,\n",
       " 51,\n",
       " 81,\n",
       " 57,\n",
       " 60,\n",
       " 55.1343761238147,\n",
       " 64,\n",
       " 65,\n",
       " 69.0,\n",
       " 73,\n",
       " 72.5140526169793,\n",
       " 76.0577469837078,\n",
       " 60.0800307679645,\n",
       " 77.0946499471698,\n",
       " 85,\n",
       " 47.2686369475644,\n",
       " 56,\n",
       " 48,\n",
       " 64,\n",
       " 94,\n",
       " 94]"
      ]
     },
     "execution_count": 150,
     "metadata": {},
     "output_type": "execute_result"
    }
   ],
   "source": [
    "Meeseva_Warangal_data=list(data16.T[3][1:-6])+list(data17.T[3][1:-1])+list(data18.T[3][1:])+list(data19.T[3][1:])+list(data20.T[3][1:])+list(data21.T[3][1:])+list(data22.T[3][1:])\n",
    "\n",
    "dt=Meeseva_Warangal_data\n",
    "\n",
    "dt"
   ]
  },
  {
   "cell_type": "code",
   "execution_count": 151,
   "id": "6188f6a2",
   "metadata": {},
   "outputs": [
    {
     "data": {
      "text/plain": [
       "['1-1-2016',\n",
       " '1-2-2016',\n",
       " '1-3-2016',\n",
       " '1-4-2016',\n",
       " '1-5-2016',\n",
       " '1-6-2016',\n",
       " '1-7-2016',\n",
       " '1-8-2016',\n",
       " '1-9-2016',\n",
       " '1-10-2016',\n",
       " '1-11-2016',\n",
       " '1-12-2016',\n",
       " '1-1-2017',\n",
       " '1-2-2017',\n",
       " '1-3-2017',\n",
       " '1-4-2017',\n",
       " '1-5-2017',\n",
       " '1-6-2017',\n",
       " '1-7-2017',\n",
       " '1-8-2017',\n",
       " '1-9-2017',\n",
       " '1-10-2017',\n",
       " '1-11-2017',\n",
       " '1-12-2017',\n",
       " '1-1-2018',\n",
       " '1-2-2018',\n",
       " '1-3-2018',\n",
       " '1-4-2018',\n",
       " '1-5-2018',\n",
       " '1-6-2018',\n",
       " '1-7-2018',\n",
       " '1-8-2018',\n",
       " '1-9-2018',\n",
       " '1-10-2018',\n",
       " '1-11-2018',\n",
       " '1-12-2018',\n",
       " '1-1-2019',\n",
       " '1-2-2019',\n",
       " '1-3-2019',\n",
       " '1-4-2019',\n",
       " '1-5-2019',\n",
       " '1-6-2019',\n",
       " '1-7-2019',\n",
       " '1-8-2019',\n",
       " '1-9-2019',\n",
       " '1-10-2019',\n",
       " '1-11-2019',\n",
       " '1-12-2019',\n",
       " '1-1-2020',\n",
       " '1-2-2020',\n",
       " '1-3-2020',\n",
       " '1-4-2020',\n",
       " '1-5-2020',\n",
       " '1-6-2020',\n",
       " '1-7-2020',\n",
       " '1-8-2020',\n",
       " '1-9-2020',\n",
       " '1-10-2020',\n",
       " '1-11-2020',\n",
       " '1-12-2020',\n",
       " '1-1-2021',\n",
       " '1-2-2021',\n",
       " '1-3-2021',\n",
       " '1-4-2021',\n",
       " '1-5-2021',\n",
       " '1-6-2021',\n",
       " '1-7-2021',\n",
       " '1-8-2021',\n",
       " '1-9-2021',\n",
       " '1-10-2021',\n",
       " '1-11-2021',\n",
       " '1-12-2021',\n",
       " '1-1-2022',\n",
       " '1-2-2022',\n",
       " '1-3-2022',\n",
       " '1-4-2022',\n",
       " '1-5-2022',\n",
       " '1-6-2022',\n",
       " '1-7-2022',\n",
       " '1-8-2022',\n",
       " '1-9-2022',\n",
       " '1-10-2022',\n",
       " '1-11-2022',\n",
       " '1-12-2022']"
      ]
     },
     "execution_count": 151,
     "metadata": {},
     "output_type": "execute_result"
    }
   ],
   "source": [
    "L=['1-1-2016','1-2-2016','1-3-2016','1-4-2016','1-5-2016','1-6-2016','1-7-2016','1-8-2016','1-9-2016','1-10-2016','1-11-2016','1-12-2016','1-1-2017','1-2-2017','1-3-2017','1-4-2017','1-5-2017','1-6-2017','1-7-2017','1-8-2017','1-9-2017','1-10-2017','1-11-2017','1-12-2017']\n",
    "L=L+['1-1-2018','1-2-2018','1-3-2018','1-4-2018','1-5-2018','1-6-2018','1-7-2018','1-8-2018','1-9-2018','1-10-2018','1-11-2018','1-12-2018']\n",
    "L=L+['1-1-2019','1-2-2019','1-3-2019','1-4-2019','1-5-2019','1-6-2019','1-7-2019','1-8-2019','1-9-2019','1-10-2019','1-11-2019','1-12-2019']\n",
    "L=L+['1-1-2020','1-2-2020','1-3-2020','1-4-2020','1-5-2020','1-6-2020','1-7-2020','1-8-2020','1-9-2020','1-10-2020','1-11-2020','1-12-2020']\n",
    "L=L+['1-1-2021','1-2-2021','1-3-2021','1-4-2021','1-5-2021','1-6-2021','1-7-2021','1-8-2021','1-9-2021','1-10-2021','1-11-2021','1-12-2021']\n",
    "L=L+['1-1-2022','1-2-2022','1-3-2022','1-4-2022','1-5-2022','1-6-2022','1-7-2022','1-8-2022','1-9-2022','1-10-2022','1-11-2022','1-12-2022']\n",
    "L"
   ]
  },
  {
   "cell_type": "code",
   "execution_count": 152,
   "id": "75446180",
   "metadata": {},
   "outputs": [
    {
     "data": {
      "text/html": [
       "<div>\n",
       "<style scoped>\n",
       "    .dataframe tbody tr th:only-of-type {\n",
       "        vertical-align: middle;\n",
       "    }\n",
       "\n",
       "    .dataframe tbody tr th {\n",
       "        vertical-align: top;\n",
       "    }\n",
       "\n",
       "    .dataframe thead th {\n",
       "        text-align: right;\n",
       "    }\n",
       "</style>\n",
       "<table border=\"1\" class=\"dataframe\">\n",
       "  <thead>\n",
       "    <tr style=\"text-align: right;\">\n",
       "      <th></th>\n",
       "      <th>Date</th>\n",
       "      <th>AQI</th>\n",
       "    </tr>\n",
       "  </thead>\n",
       "  <tbody>\n",
       "    <tr>\n",
       "      <th>0</th>\n",
       "      <td>1-1-2016</td>\n",
       "      <td>75.777778</td>\n",
       "    </tr>\n",
       "    <tr>\n",
       "      <th>1</th>\n",
       "      <td>1-2-2016</td>\n",
       "      <td>72.111111</td>\n",
       "    </tr>\n",
       "    <tr>\n",
       "      <th>2</th>\n",
       "      <td>1-3-2016</td>\n",
       "      <td>63.111111</td>\n",
       "    </tr>\n",
       "    <tr>\n",
       "      <th>3</th>\n",
       "      <td>1-4-2016</td>\n",
       "      <td>73.370370</td>\n",
       "    </tr>\n",
       "    <tr>\n",
       "      <th>4</th>\n",
       "      <td>1-5-2016</td>\n",
       "      <td>84.111111</td>\n",
       "    </tr>\n",
       "    <tr>\n",
       "      <th>...</th>\n",
       "      <td>...</td>\n",
       "      <td>...</td>\n",
       "    </tr>\n",
       "    <tr>\n",
       "      <th>79</th>\n",
       "      <td>1-8-2022</td>\n",
       "      <td>56.000000</td>\n",
       "    </tr>\n",
       "    <tr>\n",
       "      <th>80</th>\n",
       "      <td>1-9-2022</td>\n",
       "      <td>48.000000</td>\n",
       "    </tr>\n",
       "    <tr>\n",
       "      <th>81</th>\n",
       "      <td>1-10-2022</td>\n",
       "      <td>64.000000</td>\n",
       "    </tr>\n",
       "    <tr>\n",
       "      <th>82</th>\n",
       "      <td>1-11-2022</td>\n",
       "      <td>94.000000</td>\n",
       "    </tr>\n",
       "    <tr>\n",
       "      <th>83</th>\n",
       "      <td>1-12-2022</td>\n",
       "      <td>94.000000</td>\n",
       "    </tr>\n",
       "  </tbody>\n",
       "</table>\n",
       "<p>84 rows × 2 columns</p>\n",
       "</div>"
      ],
      "text/plain": [
       "         Date        AQI\n",
       "0    1-1-2016  75.777778\n",
       "1    1-2-2016  72.111111\n",
       "2    1-3-2016  63.111111\n",
       "3    1-4-2016  73.370370\n",
       "4    1-5-2016  84.111111\n",
       "..        ...        ...\n",
       "79   1-8-2022  56.000000\n",
       "80   1-9-2022  48.000000\n",
       "81  1-10-2022  64.000000\n",
       "82  1-11-2022  94.000000\n",
       "83  1-12-2022  94.000000\n",
       "\n",
       "[84 rows x 2 columns]"
      ]
     },
     "execution_count": 152,
     "metadata": {},
     "output_type": "execute_result"
    }
   ],
   "source": [
    "df=pd.DataFrame()\n",
    "df.reset_index()\n",
    "df[\"Date\"]=L\n",
    "df[\"AQI\"]=dt\n",
    "df"
   ]
  },
  {
   "cell_type": "code",
   "execution_count": 153,
   "id": "15709643",
   "metadata": {},
   "outputs": [
    {
     "name": "stdout",
     "output_type": "stream",
     "text": [
      "       Date        AQI\n",
      "0   01-2016  75.777778\n",
      "1   02-2016  72.111111\n",
      "2   03-2016  63.111111\n",
      "3   04-2016  73.370370\n",
      "4   05-2016  84.111111\n",
      "..      ...        ...\n",
      "79  08-2022  56.000000\n",
      "80  09-2022  48.000000\n",
      "81  10-2022  64.000000\n",
      "82  11-2022  94.000000\n",
      "83  12-2022  94.000000\n",
      "\n",
      "[84 rows x 2 columns]\n"
     ]
    }
   ],
   "source": [
    "df1=df[[\"Date\",\"AQI\"]]\n",
    "df1['Date'] = pd.to_datetime(df1['Date'], format='%m-%d-%Y').dt.strftime('%d-%Y')\n",
    "\n",
    "df[\"Date\"]=pd.to_datetime(df[\"Date\"])\n",
    "print(df1)\n",
    "x=df[\"Date\"]\n",
    "y=df[\"AQI\"]\n",
    "#plt.plot(x,y)\n",
    "df=df.set_index(\"Date\")"
   ]
  },
  {
   "cell_type": "code",
   "execution_count": 154,
   "id": "08f7d2da",
   "metadata": {},
   "outputs": [
    {
     "data": {
      "text/html": [
       "<div>\n",
       "<style scoped>\n",
       "    .dataframe tbody tr th:only-of-type {\n",
       "        vertical-align: middle;\n",
       "    }\n",
       "\n",
       "    .dataframe tbody tr th {\n",
       "        vertical-align: top;\n",
       "    }\n",
       "\n",
       "    .dataframe thead th {\n",
       "        text-align: right;\n",
       "    }\n",
       "</style>\n",
       "<table border=\"1\" class=\"dataframe\">\n",
       "  <thead>\n",
       "    <tr style=\"text-align: right;\">\n",
       "      <th></th>\n",
       "      <th>Date</th>\n",
       "      <th>AQI</th>\n",
       "    </tr>\n",
       "  </thead>\n",
       "  <tbody>\n",
       "    <tr>\n",
       "      <th>0</th>\n",
       "      <td>01-2016</td>\n",
       "      <td>75.777778</td>\n",
       "    </tr>\n",
       "    <tr>\n",
       "      <th>1</th>\n",
       "      <td>02-2016</td>\n",
       "      <td>72.111111</td>\n",
       "    </tr>\n",
       "    <tr>\n",
       "      <th>2</th>\n",
       "      <td>03-2016</td>\n",
       "      <td>63.111111</td>\n",
       "    </tr>\n",
       "    <tr>\n",
       "      <th>3</th>\n",
       "      <td>04-2016</td>\n",
       "      <td>73.370370</td>\n",
       "    </tr>\n",
       "    <tr>\n",
       "      <th>4</th>\n",
       "      <td>05-2016</td>\n",
       "      <td>84.111111</td>\n",
       "    </tr>\n",
       "    <tr>\n",
       "      <th>...</th>\n",
       "      <td>...</td>\n",
       "      <td>...</td>\n",
       "    </tr>\n",
       "    <tr>\n",
       "      <th>79</th>\n",
       "      <td>08-2022</td>\n",
       "      <td>56.000000</td>\n",
       "    </tr>\n",
       "    <tr>\n",
       "      <th>80</th>\n",
       "      <td>09-2022</td>\n",
       "      <td>48.000000</td>\n",
       "    </tr>\n",
       "    <tr>\n",
       "      <th>81</th>\n",
       "      <td>10-2022</td>\n",
       "      <td>64.000000</td>\n",
       "    </tr>\n",
       "    <tr>\n",
       "      <th>82</th>\n",
       "      <td>11-2022</td>\n",
       "      <td>94.000000</td>\n",
       "    </tr>\n",
       "    <tr>\n",
       "      <th>83</th>\n",
       "      <td>12-2022</td>\n",
       "      <td>94.000000</td>\n",
       "    </tr>\n",
       "  </tbody>\n",
       "</table>\n",
       "<p>84 rows × 2 columns</p>\n",
       "</div>"
      ],
      "text/plain": [
       "       Date        AQI\n",
       "0   01-2016  75.777778\n",
       "1   02-2016  72.111111\n",
       "2   03-2016  63.111111\n",
       "3   04-2016  73.370370\n",
       "4   05-2016  84.111111\n",
       "..      ...        ...\n",
       "79  08-2022  56.000000\n",
       "80  09-2022  48.000000\n",
       "81  10-2022  64.000000\n",
       "82  11-2022  94.000000\n",
       "83  12-2022  94.000000\n",
       "\n",
       "[84 rows x 2 columns]"
      ]
     },
     "execution_count": 154,
     "metadata": {},
     "output_type": "execute_result"
    }
   ],
   "source": [
    "df1"
   ]
  },
  {
   "cell_type": "code",
   "execution_count": 155,
   "id": "f31f0ca5",
   "metadata": {},
   "outputs": [
    {
     "data": {
      "text/plain": [
       "0     01-2016\n",
       "1     02-2016\n",
       "2     03-2016\n",
       "3     04-2016\n",
       "4     05-2016\n",
       "       ...   \n",
       "79    08-2022\n",
       "80    09-2022\n",
       "81    10-2022\n",
       "82    11-2022\n",
       "83    12-2022\n",
       "Name: Date, Length: 84, dtype: object"
      ]
     },
     "execution_count": 155,
     "metadata": {},
     "output_type": "execute_result"
    }
   ],
   "source": [
    "df1[\"Date\"]"
   ]
  },
  {
   "cell_type": "markdown",
   "id": "06a7d26a",
   "metadata": {},
   "source": [
    "# AQI levels of Warangal(Mee Seva) between 2016 and 2022"
   ]
  },
  {
   "cell_type": "code",
   "execution_count": 156,
   "id": "ea7b6815",
   "metadata": {
    "scrolled": true
   },
   "outputs": [
    {
     "data": {
      "image/png": "[encoded data removed]",
      "text/plain": [
       "<Figure size 640x480 with 1 Axes>"
      ]
     },
     "metadata": {},
     "output_type": "display_data"
    }
   ],
   "source": [
    "fig, ax = plt.subplots()\n",
    "ax.plot_date(df1[\"Date\"],df1[\"AQI\"], marker='', linestyle='-')\n",
    "\n",
    "fig.autofmt_xdate()\n",
    "\n",
    "\n",
    "plt.title(\"AQI levels of Warangal(Mee Seva) for each month between 2016 and 2022\")\n",
    "plt.xlabel(\"Years\")\n",
    "plt.ylabel(\"AQI levels\")\n",
    "\n",
    "plt.setp(ax.get_xticklabels(), rotation=60, horizontalalignment='right')\n",
    "for label in (ax.get_xticklabels() + ax.get_yticklabels()):label.set_fontsize(5)\n",
    "plt.show()"
   ]
  },
  {
   "cell_type": "code",
   "execution_count": 157,
   "id": "44fd4b3b",
   "metadata": {},
   "outputs": [],
   "source": [
    "from sklearn.model_selection import train_test_split\n",
    "x_train,x_test,y_train,y_test = train_test_split(x,y,test_size=0.25,\n",
    "                                                random_state=666)"
   ]
  },
  {
   "cell_type": "code",
   "execution_count": 158,
   "id": "005ca2ce",
   "metadata": {},
   "outputs": [
    {
     "name": "stdout",
     "output_type": "stream",
     "text": [
      "The p-value of the dataset is 0.00041056356863627665\n"
     ]
    }
   ],
   "source": [
    "from statsmodels.tsa.stattools import adfuller\n",
    "dfa=adfuller(df)\n",
    "print(\"The p-value of the dataset is\",dfa[1])"
   ]
  },
  {
   "cell_type": "code",
   "execution_count": 159,
   "id": "26c1c0cb",
   "metadata": {},
   "outputs": [],
   "source": [
    "#plt.plot(df)"
   ]
  },
  {
   "cell_type": "code",
   "execution_count": 160,
   "id": "24610807",
   "metadata": {},
   "outputs": [
    {
     "name": "stdout",
     "output_type": "stream",
     "text": [
      "Performing stepwise search to minimize aic\n",
      " ARIMA(2,0,2)(0,0,0)[0] intercept   : AIC=654.105, Time=0.32 sec\n",
      " ARIMA(0,0,0)(0,0,0)[0] intercept   : AIC=685.720, Time=0.01 sec\n",
      " ARIMA(1,0,0)(0,0,0)[0] intercept   : AIC=649.847, Time=0.03 sec\n",
      " ARIMA(0,0,1)(0,0,0)[0] intercept   : AIC=660.993, Time=0.05 sec\n",
      " ARIMA(0,0,0)(0,0,0)[0]             : AIC=965.748, Time=0.01 sec\n",
      " ARIMA(2,0,0)(0,0,0)[0] intercept   : AIC=651.833, Time=0.07 sec\n",
      " ARIMA(1,0,1)(0,0,0)[0] intercept   : AIC=651.832, Time=0.07 sec\n",
      " ARIMA(2,0,1)(0,0,0)[0] intercept   : AIC=653.836, Time=0.15 sec\n",
      " ARIMA(1,0,0)(0,0,0)[0]             : AIC=669.104, Time=0.02 sec\n",
      "\n",
      "Best model:  ARIMA(1,0,0)(0,0,0)[0] intercept\n",
      "Total fit time: 0.737 seconds\n"
     ]
    },
    {
     "data": {
      "text/html": [
       "<table class=\"simpletable\">\n",
       "<caption>SARIMAX Results</caption>\n",
       "<tr>\n",
       "  <th>Dep. Variable:</th>           <td>y</td>        <th>  No. Observations:  </th>    <td>84</td>   \n",
       "</tr>\n",
       "<tr>\n",
       "  <th>Model:</th>           <td>SARIMAX(1, 0, 0)</td> <th>  Log Likelihood     </th> <td>-321.924</td>\n",
       "</tr>\n",
       "<tr>\n",
       "  <th>Date:</th>            <td>Sat, 04 Mar 2023</td> <th>  AIC                </th>  <td>649.847</td>\n",
       "</tr>\n",
       "<tr>\n",
       "  <th>Time:</th>                <td>18:40:05</td>     <th>  BIC                </th>  <td>657.140</td>\n",
       "</tr>\n",
       "<tr>\n",
       "  <th>Sample:</th>                  <td>0</td>        <th>  HQIC               </th>  <td>652.779</td>\n",
       "</tr>\n",
       "<tr>\n",
       "  <th></th>                       <td> - 84</td>      <th>                     </th>     <td> </td>   \n",
       "</tr>\n",
       "<tr>\n",
       "  <th>Covariance Type:</th>        <td>opg</td>       <th>                     </th>     <td> </td>   \n",
       "</tr>\n",
       "</table>\n",
       "<table class=\"simpletable\">\n",
       "<tr>\n",
       "      <td></td>         <th>coef</th>     <th>std err</th>      <th>z</th>      <th>P>|z|</th>  <th>[0.025</th>    <th>0.975]</th>  \n",
       "</tr>\n",
       "<tr>\n",
       "  <th>intercept</th> <td>   28.6500</td> <td>    7.956</td> <td>    3.601</td> <td> 0.000</td> <td>   13.057</td> <td>   44.243</td>\n",
       "</tr>\n",
       "<tr>\n",
       "  <th>ar.L1</th>     <td>    0.6131</td> <td>    0.112</td> <td>    5.470</td> <td> 0.000</td> <td>    0.393</td> <td>    0.833</td>\n",
       "</tr>\n",
       "<tr>\n",
       "  <th>sigma2</th>    <td>  124.1022</td> <td>   17.347</td> <td>    7.154</td> <td> 0.000</td> <td>   90.103</td> <td>  158.102</td>\n",
       "</tr>\n",
       "</table>\n",
       "<table class=\"simpletable\">\n",
       "<tr>\n",
       "  <th>Ljung-Box (L1) (Q):</th>     <td>0.00</td> <th>  Jarque-Bera (JB):  </th> <td>9.85</td> \n",
       "</tr>\n",
       "<tr>\n",
       "  <th>Prob(Q):</th>                <td>0.94</td> <th>  Prob(JB):          </th> <td>0.01</td> \n",
       "</tr>\n",
       "<tr>\n",
       "  <th>Heteroskedasticity (H):</th> <td>1.83</td> <th>  Skew:              </th> <td>-0.60</td>\n",
       "</tr>\n",
       "<tr>\n",
       "  <th>Prob(H) (two-sided):</th>    <td>0.12</td> <th>  Kurtosis:          </th> <td>4.17</td> \n",
       "</tr>\n",
       "</table><br/><br/>Warnings:<br/>[1] Covariance matrix calculated using the outer product of gradients (complex-step)."
      ],
      "text/plain": [
       "<class 'statsmodels.iolib.summary.Summary'>\n",
       "\"\"\"\n",
       "                               SARIMAX Results                                \n",
       "==============================================================================\n",
       "Dep. Variable:                      y   No. Observations:                   84\n",
       "Model:               SARIMAX(1, 0, 0)   Log Likelihood                -321.924\n",
       "Date:                Sat, 04 Mar 2023   AIC                            649.847\n",
       "Time:                        18:40:05   BIC                            657.140\n",
       "Sample:                             0   HQIC                           652.779\n",
       "                                 - 84                                         \n",
       "Covariance Type:                  opg                                         \n",
       "==============================================================================\n",
       "                 coef    std err          z      P>|z|      [0.025      0.975]\n",
       "------------------------------------------------------------------------------\n",
       "intercept     28.6500      7.956      3.601      0.000      13.057      44.243\n",
       "ar.L1          0.6131      0.112      5.470      0.000       0.393       0.833\n",
       "sigma2       124.1022     17.347      7.154      0.000      90.103     158.102\n",
       "===================================================================================\n",
       "Ljung-Box (L1) (Q):                   0.00   Jarque-Bera (JB):                 9.85\n",
       "Prob(Q):                              0.94   Prob(JB):                         0.01\n",
       "Heteroskedasticity (H):               1.83   Skew:                            -0.60\n",
       "Prob(H) (two-sided):                  0.12   Kurtosis:                         4.17\n",
       "===================================================================================\n",
       "\n",
       "Warnings:\n",
       "[1] Covariance matrix calculated using the outer product of gradients (complex-step).\n",
       "\"\"\""
      ]
     },
     "execution_count": 160,
     "metadata": {},
     "output_type": "execute_result"
    }
   ],
   "source": [
    "from pmdarima import auto_arima\n",
    "  \n",
    "# Ignore harmless warnings\n",
    "import warnings\n",
    "warnings.filterwarnings(\"ignore\")\n",
    "fit=auto_arima(df[\"AQI\"],trace=True,suppress_warning=True)\n",
    "fit.summary()"
   ]
  },
  {
   "cell_type": "code",
   "execution_count": 161,
   "id": "41b6c1ec",
   "metadata": {},
   "outputs": [
    {
     "data": {
      "text/plain": [
       "'df.sort_index(inplace=True)\\ndf'"
      ]
     },
     "execution_count": 161,
     "metadata": {},
     "output_type": "execute_result"
    }
   ],
   "source": [
    "'''df.sort_index(inplace=True)\n",
    "df'''"
   ]
  },
  {
   "cell_type": "code",
   "execution_count": 162,
   "id": "d9e4da08",
   "metadata": {},
   "outputs": [],
   "source": [
    "train=df.iloc[:-12]\n",
    "test=df.iloc[-12:]"
   ]
  },
  {
   "cell_type": "markdown",
   "id": "5499b2de",
   "metadata": {},
   "source": [
    "# ARIMA model"
   ]
  },
  {
   "cell_type": "code",
   "execution_count": 163,
   "id": "730004ad",
   "metadata": {},
   "outputs": [
    {
     "name": "stdout",
     "output_type": "stream",
     "text": [
      "                  AQI\n",
      "Date                 \n",
      "2016-01-01  75.777778\n",
      "2016-01-02  72.111111\n",
      "2016-01-03  63.111111\n",
      "2016-01-04  73.370370\n",
      "2016-01-05  84.111111\n",
      "...               ...\n",
      "2021-01-08  60.000000\n",
      "2021-01-09  55.134376\n",
      "2021-01-10  64.000000\n",
      "2021-01-11  65.000000\n",
      "2021-01-12  69.000000\n",
      "\n",
      "[72 rows x 1 columns]\n"
     ]
    },
    {
     "data": {
      "text/html": [
       "<table class=\"simpletable\">\n",
       "<caption>SARIMAX Results</caption>\n",
       "<tr>\n",
       "  <th>Dep. Variable:</th>                 <td>AQI</td>              <th>  No. Observations:  </th>    <td>72</td>   \n",
       "</tr>\n",
       "<tr>\n",
       "  <th>Model:</th>           <td>ARIMA(1, 0, 0)x(0, 1, [1], 12)</td> <th>  Log Likelihood     </th> <td>-232.364</td>\n",
       "</tr>\n",
       "<tr>\n",
       "  <th>Date:</th>                   <td>Sat, 04 Mar 2023</td>        <th>  AIC                </th>  <td>470.729</td>\n",
       "</tr>\n",
       "<tr>\n",
       "  <th>Time:</th>                       <td>18:40:05</td>            <th>  BIC                </th>  <td>477.012</td>\n",
       "</tr>\n",
       "<tr>\n",
       "  <th>Sample:</th>                         <td>0</td>               <th>  HQIC               </th>  <td>473.187</td>\n",
       "</tr>\n",
       "<tr>\n",
       "  <th></th>                              <td> - 72</td>             <th>                     </th>     <td> </td>   \n",
       "</tr>\n",
       "<tr>\n",
       "  <th>Covariance Type:</th>               <td>opg</td>              <th>                     </th>     <td> </td>   \n",
       "</tr>\n",
       "</table>\n",
       "<table class=\"simpletable\">\n",
       "<tr>\n",
       "      <td></td>        <th>coef</th>     <th>std err</th>      <th>z</th>      <th>P>|z|</th>  <th>[0.025</th>    <th>0.975]</th>  \n",
       "</tr>\n",
       "<tr>\n",
       "  <th>ar.L1</th>    <td>    0.6004</td> <td>    0.111</td> <td>    5.402</td> <td> 0.000</td> <td>    0.383</td> <td>    0.818</td>\n",
       "</tr>\n",
       "<tr>\n",
       "  <th>ma.S.L12</th> <td>   -0.9968</td> <td>   28.086</td> <td>   -0.035</td> <td> 0.972</td> <td>  -56.044</td> <td>   54.050</td>\n",
       "</tr>\n",
       "<tr>\n",
       "  <th>sigma2</th>   <td>   94.1763</td> <td> 2632.806</td> <td>    0.036</td> <td> 0.971</td> <td>-5066.029</td> <td> 5254.382</td>\n",
       "</tr>\n",
       "</table>\n",
       "<table class=\"simpletable\">\n",
       "<tr>\n",
       "  <th>Ljung-Box (L1) (Q):</th>     <td>1.32</td> <th>  Jarque-Bera (JB):  </th> <td>13.44</td>\n",
       "</tr>\n",
       "<tr>\n",
       "  <th>Prob(Q):</th>                <td>0.25</td> <th>  Prob(JB):          </th> <td>0.00</td> \n",
       "</tr>\n",
       "<tr>\n",
       "  <th>Heteroskedasticity (H):</th> <td>1.53</td> <th>  Skew:              </th> <td>-0.57</td>\n",
       "</tr>\n",
       "<tr>\n",
       "  <th>Prob(H) (two-sided):</th>    <td>0.35</td> <th>  Kurtosis:          </th> <td>5.02</td> \n",
       "</tr>\n",
       "</table><br/><br/>Warnings:<br/>[1] Covariance matrix calculated using the outer product of gradients (complex-step)."
      ],
      "text/plain": [
       "<class 'statsmodels.iolib.summary.Summary'>\n",
       "\"\"\"\n",
       "                                     SARIMAX Results                                      \n",
       "==========================================================================================\n",
       "Dep. Variable:                                AQI   No. Observations:                   72\n",
       "Model:             ARIMA(1, 0, 0)x(0, 1, [1], 12)   Log Likelihood                -232.364\n",
       "Date:                            Sat, 04 Mar 2023   AIC                            470.729\n",
       "Time:                                    18:40:05   BIC                            477.012\n",
       "Sample:                                         0   HQIC                           473.187\n",
       "                                             - 72                                         \n",
       "Covariance Type:                              opg                                         \n",
       "==============================================================================\n",
       "                 coef    std err          z      P>|z|      [0.025      0.975]\n",
       "------------------------------------------------------------------------------\n",
       "ar.L1          0.6004      0.111      5.402      0.000       0.383       0.818\n",
       "ma.S.L12      -0.9968     28.086     -0.035      0.972     -56.044      54.050\n",
       "sigma2        94.1763   2632.806      0.036      0.971   -5066.029    5254.382\n",
       "===================================================================================\n",
       "Ljung-Box (L1) (Q):                   1.32   Jarque-Bera (JB):                13.44\n",
       "Prob(Q):                              0.25   Prob(JB):                         0.00\n",
       "Heteroskedasticity (H):               1.53   Skew:                            -0.57\n",
       "Prob(H) (two-sided):                  0.35   Kurtosis:                         5.02\n",
       "===================================================================================\n",
       "\n",
       "Warnings:\n",
       "[1] Covariance matrix calculated using the outer product of gradients (complex-step).\n",
       "\"\"\""
      ]
     },
     "execution_count": 163,
     "metadata": {},
     "output_type": "execute_result"
    }
   ],
   "source": [
    "from statsmodels.tsa.arima.model import ARIMA \n",
    "print(train)\n",
    "model =ARIMA(train,order=(1,0,0),seasonal_order=(0,1,1,12))\n",
    "model_fit =model.fit()\n",
    "model_fit.summary()"
   ]
  },
  {
   "cell_type": "code",
   "execution_count": 164,
   "id": "d9859f01",
   "metadata": {},
   "outputs": [
    {
     "data": {
      "text/plain": [
       "[<matplotlib.lines.Line2D at 0x201c70d3640>]"
      ]
     },
     "execution_count": 164,
     "metadata": {},
     "output_type": "execute_result"
    },
    {
     "data": {
      "image/png": "[encoded data removed]",
      "text/plain": [
       "<Figure size 640x480 with 1 Axes>"
      ]
     },
     "metadata": {},
     "output_type": "display_data"
    }
   ],
   "source": [
    "pred_new=model_fit.forecast(12)\n",
    "plt.plot(pred_new)"
   ]
  },
  {
   "cell_type": "code",
   "execution_count": 165,
   "id": "e210e6f3",
   "metadata": {},
   "outputs": [],
   "source": [
    "#res.index"
   ]
  },
  {
   "cell_type": "code",
   "execution_count": 166,
   "id": "5b97cc31",
   "metadata": {},
   "outputs": [],
   "source": [
    "time_list=['1-1-2022','1-2-2022','1-3-2022','1-4-2022','1-5-2022','1-6-2022','1-7-2022','1-8-2022','1-9-2022','1-10-2022','1-11-2022','1-12-2022']\n",
    "res=pd.DataFrame(pred_new)\n",
    "res[\"Date\"]=time_list\n",
    "a=list(res['predicted_mean'])\n",
    "res[\"AQI\"]=a\n",
    "res=res.drop([\"predicted_mean\"],axis=1)\n",
    "res[\"Date\"]=pd.to_datetime(res[\"Date\"])\n",
    "df2=res[[\"Date\",\"AQI\"]]\n",
    "df2['Date'] = pd.to_datetime(df2['Date'], format='%Y-%d-%m').dt.strftime('%d-%Y')\n",
    "res=res.set_index(\"Date\")"
   ]
  },
  {
   "cell_type": "code",
   "execution_count": 167,
   "id": "afe06ba7",
   "metadata": {},
   "outputs": [],
   "source": [
    "final_data =train\n",
    "pred_data=final_data.append(res)"
   ]
  },
  {
   "cell_type": "code",
   "execution_count": 168,
   "id": "b815d2cf",
   "metadata": {},
   "outputs": [],
   "source": [
    "#df2"
   ]
  },
  {
   "cell_type": "code",
   "execution_count": 177,
   "id": "18386b68",
   "metadata": {},
   "outputs": [
    {
     "data": {
      "image/png": "[encoded data removed]",
      "text/plain": [
       "<Figure size 640x480 with 1 Axes>"
      ]
     },
     "metadata": {},
     "output_type": "display_data"
    }
   ],
   "source": [
    "\n",
    "fig, ax = plt.subplots()\n",
    "ax.plot_date(df1[\"Date\"][:-11],df1[\"AQI\"][:-11], marker='', linestyle='-')\n",
    "ax.plot_date(df2[\"Date\"],df2[\"AQI\"] ,marker='', linestyle='-')\n",
    "fig.autofmt_xdate()\n",
    "\n",
    "\n",
    "plt.title(\"Predicted value for 2022 alongside old data\",fontsize = 20,c='b')\n",
    "plt.xlabel(\"Time\",fontsize = 15)\n",
    "plt.ylabel(\"AQI lvl\",fontsize = 15)\n",
    "\n",
    "plt.setp(ax.get_xticklabels(), rotation=60, horizontalalignment='right')\n",
    "for label in (ax.get_xticklabels() + ax.get_yticklabels()):label.set_fontsize(4)\n",
    "plt.show()\n",
    "\n"
   ]
  },
  {
   "cell_type": "markdown",
   "id": "3192b8d1",
   "metadata": {},
   "source": [
    "# Performance of the model"
   ]
  },
  {
   "cell_type": "code",
   "execution_count": 170,
   "id": "6ac5fa3b",
   "metadata": {},
   "outputs": [
    {
     "name": "stdout",
     "output_type": "stream",
     "text": [
      "Average Temperature         :  73.69500672889869\n",
      "Root mean Square value      :  9.948673135114664\n",
      "Mean absolute Error         :  8.872676436581267\n"
     ]
    }
   ],
   "source": [
    "from sklearn.metrics import mean_squared_error\n",
    "from sklearn.metrics import mean_absolute_error\n",
    "from math import sqrt\n",
    "rmse=sqrt(mean_squared_error(pred_new,test[\"AQI\"]))\n",
    "ame=mean_absolute_error(pred_new,test[\"AQI\"])\n",
    "\n",
    "print(\"Average Temperature         : \",df['AQI'].mean())\n",
    "print(\"Root mean Square value      : \",rmse)\n",
    "print(\"Mean absolute Error         : \",ame)"
   ]
  },
  {
   "cell_type": "code",
   "execution_count": null,
   "id": "4199e3c5",
   "metadata": {},
   "outputs": [],
   "source": []
  },
  {
   "cell_type": "markdown",
   "id": "dc786348",
   "metadata": {},
   "source": [
    "# Forcasting for 2023"
   ]
  },
  {
   "cell_type": "code",
   "execution_count": 171,
   "id": "dda5a462",
   "metadata": {},
   "outputs": [
    {
     "data": {
      "text/html": [
       "<table class=\"simpletable\">\n",
       "<caption>SARIMAX Results</caption>\n",
       "<tr>\n",
       "  <th>Dep. Variable:</th>                 <td>AQI</td>              <th>  No. Observations:  </th>    <td>84</td>   \n",
       "</tr>\n",
       "<tr>\n",
       "  <th>Model:</th>           <td>ARIMA(1, 0, 0)x(0, 1, [1], 12)</td> <th>  Log Likelihood     </th> <td>-278.103</td>\n",
       "</tr>\n",
       "<tr>\n",
       "  <th>Date:</th>                   <td>Sat, 04 Mar 2023</td>        <th>  AIC                </th>  <td>562.205</td>\n",
       "</tr>\n",
       "<tr>\n",
       "  <th>Time:</th>                       <td>18:40:07</td>            <th>  BIC                </th>  <td>569.035</td>\n",
       "</tr>\n",
       "<tr>\n",
       "  <th>Sample:</th>                         <td>0</td>               <th>  HQIC               </th>  <td>564.924</td>\n",
       "</tr>\n",
       "<tr>\n",
       "  <th></th>                              <td> - 84</td>             <th>                     </th>     <td> </td>   \n",
       "</tr>\n",
       "<tr>\n",
       "  <th>Covariance Type:</th>               <td>opg</td>              <th>                     </th>     <td> </td>   \n",
       "</tr>\n",
       "</table>\n",
       "<table class=\"simpletable\">\n",
       "<tr>\n",
       "      <td></td>        <th>coef</th>     <th>std err</th>      <th>z</th>      <th>P>|z|</th>  <th>[0.025</th>    <th>0.975]</th>  \n",
       "</tr>\n",
       "<tr>\n",
       "  <th>ar.L1</th>    <td>    0.5655</td> <td>    0.108</td> <td>    5.220</td> <td> 0.000</td> <td>    0.353</td> <td>    0.778</td>\n",
       "</tr>\n",
       "<tr>\n",
       "  <th>ma.S.L12</th> <td>   -0.7996</td> <td>    0.271</td> <td>   -2.951</td> <td> 0.003</td> <td>   -1.331</td> <td>   -0.269</td>\n",
       "</tr>\n",
       "<tr>\n",
       "  <th>sigma2</th>   <td>  112.0839</td> <td>   24.014</td> <td>    4.668</td> <td> 0.000</td> <td>   65.018</td> <td>  159.150</td>\n",
       "</tr>\n",
       "</table>\n",
       "<table class=\"simpletable\">\n",
       "<tr>\n",
       "  <th>Ljung-Box (L1) (Q):</th>     <td>1.24</td> <th>  Jarque-Bera (JB):  </th> <td>11.58</td>\n",
       "</tr>\n",
       "<tr>\n",
       "  <th>Prob(Q):</th>                <td>0.27</td> <th>  Prob(JB):          </th> <td>0.00</td> \n",
       "</tr>\n",
       "<tr>\n",
       "  <th>Heteroskedasticity (H):</th> <td>1.70</td> <th>  Skew:              </th> <td>-0.61</td>\n",
       "</tr>\n",
       "<tr>\n",
       "  <th>Prob(H) (two-sided):</th>    <td>0.20</td> <th>  Kurtosis:          </th> <td>4.53</td> \n",
       "</tr>\n",
       "</table><br/><br/>Warnings:<br/>[1] Covariance matrix calculated using the outer product of gradients (complex-step)."
      ],
      "text/plain": [
       "<class 'statsmodels.iolib.summary.Summary'>\n",
       "\"\"\"\n",
       "                                     SARIMAX Results                                      \n",
       "==========================================================================================\n",
       "Dep. Variable:                                AQI   No. Observations:                   84\n",
       "Model:             ARIMA(1, 0, 0)x(0, 1, [1], 12)   Log Likelihood                -278.103\n",
       "Date:                            Sat, 04 Mar 2023   AIC                            562.205\n",
       "Time:                                    18:40:07   BIC                            569.035\n",
       "Sample:                                         0   HQIC                           564.924\n",
       "                                             - 84                                         \n",
       "Covariance Type:                              opg                                         \n",
       "==============================================================================\n",
       "                 coef    std err          z      P>|z|      [0.025      0.975]\n",
       "------------------------------------------------------------------------------\n",
       "ar.L1          0.5655      0.108      5.220      0.000       0.353       0.778\n",
       "ma.S.L12      -0.7996      0.271     -2.951      0.003      -1.331      -0.269\n",
       "sigma2       112.0839     24.014      4.668      0.000      65.018     159.150\n",
       "===================================================================================\n",
       "Ljung-Box (L1) (Q):                   1.24   Jarque-Bera (JB):                11.58\n",
       "Prob(Q):                              0.27   Prob(JB):                         0.00\n",
       "Heteroskedasticity (H):               1.70   Skew:                            -0.61\n",
       "Prob(H) (two-sided):                  0.20   Kurtosis:                         4.53\n",
       "===================================================================================\n",
       "\n",
       "Warnings:\n",
       "[1] Covariance matrix calculated using the outer product of gradients (complex-step).\n",
       "\"\"\""
      ]
     },
     "execution_count": 171,
     "metadata": {},
     "output_type": "execute_result"
    }
   ],
   "source": [
    "model =ARIMA(df,order=(1,0,0),seasonal_order=(0,1,1,12))\n",
    "model_fit =model.fit()\n",
    "model_fit.summary()"
   ]
  },
  {
   "cell_type": "code",
   "execution_count": 172,
   "id": "c9e4c87b",
   "metadata": {},
   "outputs": [
    {
     "name": "stdout",
     "output_type": "stream",
     "text": [
      "The predicted AQI values of each month of 2023 is:\n",
      "     predicted_mean\n",
      "84       89.045924\n",
      "85       87.166589\n",
      "86       78.365681\n",
      "87       69.266793\n",
      "88       73.484200\n",
      "89       76.439184\n",
      "90       61.486879\n",
      "91       61.154839\n",
      "92       58.996142\n",
      "93       68.613257\n",
      "94       84.833390\n",
      "95       84.454980\n"
     ]
    }
   ],
   "source": [
    "pred_new =model_fit.forecast(12)\n",
    "print(\"The predicted AQI values of each month of 2023 is:\\n\",pd.DataFrame(pred_new))"
   ]
  },
  {
   "cell_type": "code",
   "execution_count": 173,
   "id": "4d8f8785",
   "metadata": {},
   "outputs": [
    {
     "data": {
      "text/html": [
       "<div>\n",
       "<style scoped>\n",
       "    .dataframe tbody tr th:only-of-type {\n",
       "        vertical-align: middle;\n",
       "    }\n",
       "\n",
       "    .dataframe tbody tr th {\n",
       "        vertical-align: top;\n",
       "    }\n",
       "\n",
       "    .dataframe thead th {\n",
       "        text-align: right;\n",
       "    }\n",
       "</style>\n",
       "<table border=\"1\" class=\"dataframe\">\n",
       "  <thead>\n",
       "    <tr style=\"text-align: right;\">\n",
       "      <th></th>\n",
       "      <th>AQI</th>\n",
       "    </tr>\n",
       "    <tr>\n",
       "      <th>Date</th>\n",
       "      <th></th>\n",
       "    </tr>\n",
       "  </thead>\n",
       "  <tbody>\n",
       "    <tr>\n",
       "      <th>01-2023</th>\n",
       "      <td>89.045924</td>\n",
       "    </tr>\n",
       "    <tr>\n",
       "      <th>02-2023</th>\n",
       "      <td>87.166589</td>\n",
       "    </tr>\n",
       "    <tr>\n",
       "      <th>03-2023</th>\n",
       "      <td>78.365681</td>\n",
       "    </tr>\n",
       "    <tr>\n",
       "      <th>04-2023</th>\n",
       "      <td>69.266793</td>\n",
       "    </tr>\n",
       "    <tr>\n",
       "      <th>05-2023</th>\n",
       "      <td>73.484200</td>\n",
       "    </tr>\n",
       "    <tr>\n",
       "      <th>06-2023</th>\n",
       "      <td>76.439184</td>\n",
       "    </tr>\n",
       "    <tr>\n",
       "      <th>07-2023</th>\n",
       "      <td>61.486879</td>\n",
       "    </tr>\n",
       "    <tr>\n",
       "      <th>08-2023</th>\n",
       "      <td>61.154839</td>\n",
       "    </tr>\n",
       "    <tr>\n",
       "      <th>09-2023</th>\n",
       "      <td>58.996142</td>\n",
       "    </tr>\n",
       "    <tr>\n",
       "      <th>10-2023</th>\n",
       "      <td>68.613257</td>\n",
       "    </tr>\n",
       "    <tr>\n",
       "      <th>11-2023</th>\n",
       "      <td>84.833390</td>\n",
       "    </tr>\n",
       "    <tr>\n",
       "      <th>12-2023</th>\n",
       "      <td>84.454980</td>\n",
       "    </tr>\n",
       "  </tbody>\n",
       "</table>\n",
       "</div>"
      ],
      "text/plain": [
       "               AQI\n",
       "Date              \n",
       "01-2023  89.045924\n",
       "02-2023  87.166589\n",
       "03-2023  78.365681\n",
       "04-2023  69.266793\n",
       "05-2023  73.484200\n",
       "06-2023  76.439184\n",
       "07-2023  61.486879\n",
       "08-2023  61.154839\n",
       "09-2023  58.996142\n",
       "10-2023  68.613257\n",
       "11-2023  84.833390\n",
       "12-2023  84.454980"
      ]
     },
     "execution_count": 173,
     "metadata": {},
     "output_type": "execute_result"
    }
   ],
   "source": [
    "res=pd.DataFrame(pred_new)\n",
    "res.columns=[\"AQI\"]\n",
    "time_list=['1-1-2023','1-2-2023','1-3-2023','1-4-2023','1-5-2023','1-6-2023','1-7-2023','1-8-2023','1-9-2023','1-10-2023','1-11-2023','1-12-2023']\n",
    "res[\"AQI\"]=pred_new\n",
    "res[\"Date\"]=time_list\n",
    "res[\"Date\"]=pd.to_datetime(res[\"Date\"])\n",
    "res['Date'] = pd.to_datetime(res['Date'], format='%Y-%d-%m').dt.strftime('%d-%Y')\n",
    "res=res.set_index(\"Date\")\n",
    "res"
   ]
  },
  {
   "cell_type": "code",
   "execution_count": 174,
   "id": "8cdc995a",
   "metadata": {},
   "outputs": [
    {
     "data": {
      "image/png": "[encoded data removed]",
      "text/plain": [
       "<Figure size 640x480 with 1 Axes>"
      ]
     },
     "metadata": {},
     "output_type": "display_data"
    }
   ],
   "source": [
    "fig, ax = plt.subplots()\n",
    "ax.plot_date(df1[\"Date\"],y, marker='', linestyle='-')\n",
    "plt.plot(res,c='g')\n",
    "\n",
    "fig.autofmt_xdate()\n",
    "\n",
    "\n",
    "plt.title(\"AQI levels of Warangal(Mee Seva) for each month between 2016 and 2022\",c='b')\n",
    "plt.xlabel(\"Years\")\n",
    "plt.ylabel(\"AQI levels\")\n",
    "\n",
    "plt.setp(ax.get_xticklabels(), rotation=60, horizontalalignment='right')\n",
    "for label in (ax.get_xticklabels() + ax.get_yticklabels()):label.set_fontsize(4)\n",
    "plt.show()\n"
   ]
  },
  {
   "cell_type": "code",
   "execution_count": null,
   "id": "9100b5f7",
   "metadata": {},
   "outputs": [],
   "source": []
  },
  {
   "cell_type": "code",
   "execution_count": null,
   "id": "94a1b32d",
   "metadata": {},
   "outputs": [],
   "source": []
  }
 ],
 "metadata": {
  "kernelspec": {
   "display_name": "Python 3 (ipykernel)",
   "language": "python",
   "name": "python3"
  },
  "language_info": {
   "codemirror_mode": {
    "name": "ipython",
    "version": 3
   },
   "file_extension": ".py",
   "mimetype": "text/x-python",
   "name": "python",
   "nbconvert_exporter": "python",
   "pygments_lexer": "ipython3",
   "version": "3.9.12"
  }
 },
 "nbformat": 4,
 "nbformat_minor": 5
}
