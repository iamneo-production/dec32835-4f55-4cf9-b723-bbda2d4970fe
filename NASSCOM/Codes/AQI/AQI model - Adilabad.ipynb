{
 "cells": [
  {
   "cell_type": "code",
   "execution_count": null,
   "id": "4eea3dc1",
   "metadata": {},
   "outputs": [],
   "source": [
    "import numpy as np\n",
    "import pandas as pd\n",
    "from keras.models import Sequential\n",
    "from keras.layers import Dense\n",
    "from keras.layers import LSTM\n",
    "import matplotlib.pyplot as plt\n",
    "from sklearn.model_selection import train_test_split"
   ]
  },
  {
   "cell_type": "code",
   "execution_count": null,
   "id": "f2d32561",
   "metadata": {},
   "outputs": [],
   "source": [
    "data16=pd.read_excel(\"AQI 2016 (1).xls\")"
   ]
  },
  {
   "cell_type": "code",
   "execution_count": null,
   "id": "82755604",
   "metadata": {},
   "outputs": [],
   "source": [
    "data17=pd.read_excel(\"AQI 2017.xlsx\")"
   ]
  },
  {
   "cell_type": "code",
   "execution_count": null,
   "id": "10f1db35",
   "metadata": {},
   "outputs": [],
   "source": [
    "data18=pd.read_excel(\"2018_AQI.xlsx\")"
   ]
  },
  {
   "cell_type": "code",
   "execution_count": null,
   "id": "d92b2fb5",
   "metadata": {},
   "outputs": [],
   "source": [
    "data19=pd.read_excel(\"2019_AQI.xlsx\")"
   ]
  },
  {
   "cell_type": "code",
   "execution_count": null,
   "id": "eb0ccdf6",
   "metadata": {},
   "outputs": [],
   "source": [
    "data20=pd.read_excel(\"2020_AQI.xlsx\")"
   ]
  },
  {
   "cell_type": "code",
   "execution_count": null,
   "id": "0d5925b0",
   "metadata": {},
   "outputs": [],
   "source": [
    "data21=pd.read_excel(\"2021_AQI.xlsx\")"
   ]
  },
  {
   "cell_type": "code",
   "execution_count": null,
   "id": "1f3278ea",
   "metadata": {},
   "outputs": [],
   "source": [
    "data22=pd.read_excel(\"2022_AQI.xlsx\")"
   ]
  },
  {
   "cell_type": "code",
   "execution_count": null,
   "id": "bb32692f",
   "metadata": {},
   "outputs": [
    {
     "data": {
      "text/html": [
       "<div>\n",
       "<style scoped>\n",
       "    .dataframe tbody tr th:only-of-type {\n",
       "        vertical-align: middle;\n",
       "    }\n",
       "\n",
       "    .dataframe tbody tr th {\n",
       "        vertical-align: top;\n",
       "    }\n",
       "\n",
       "    .dataframe thead th {\n",
       "        text-align: right;\n",
       "    }\n",
       "</style>\n",
       "<table border=\"1\" class=\"dataframe\">\n",
       "  <thead>\n",
       "    <tr style=\"text-align: right;\">\n",
       "      <th></th>\n",
       "      <th>Location</th>\n",
       "      <th>2022-01-01 00:00:00</th>\n",
       "      <th>2022-02-01 00:00:00</th>\n",
       "      <th>2022-03-01 00:00:00</th>\n",
       "      <th>2022-04-01 00:00:00</th>\n",
       "      <th>2022-05-01 00:00:00</th>\n",
       "      <th>2022-06-01 00:00:00</th>\n",
       "      <th>2022-07-01 00:00:00</th>\n",
       "      <th>2022-08-01 00:00:00</th>\n",
       "      <th>2022-09-01 00:00:00</th>\n",
       "      <th>2022-10-01 00:00:00</th>\n",
       "      <th>2022-11-01 00:00:00</th>\n",
       "      <th>2022-12-01 00:00:00</th>\n",
       "    </tr>\n",
       "  </thead>\n",
       "  <tbody>\n",
       "    <tr>\n",
       "      <th>0</th>\n",
       "      <td>Nizamabad</td>\n",
       "      <td>56</td>\n",
       "      <td>59.000000</td>\n",
       "      <td>64.000000</td>\n",
       "      <td>58.000000</td>\n",
       "      <td>56.222222</td>\n",
       "      <td>54</td>\n",
       "      <td>46.000000</td>\n",
       "      <td>53</td>\n",
       "      <td>54</td>\n",
       "      <td>63</td>\n",
       "      <td>56</td>\n",
       "      <td>59</td>\n",
       "    </tr>\n",
       "    <tr>\n",
       "      <th>1</th>\n",
       "      <td>Adilabad</td>\n",
       "      <td>54</td>\n",
       "      <td>55.000000</td>\n",
       "      <td>56.000000</td>\n",
       "      <td>65.000000</td>\n",
       "      <td>60.148148</td>\n",
       "      <td>58</td>\n",
       "      <td>48.000000</td>\n",
       "      <td>56</td>\n",
       "      <td>56</td>\n",
       "      <td>65</td>\n",
       "      <td>58</td>\n",
       "      <td>62</td>\n",
       "    </tr>\n",
       "    <tr>\n",
       "      <th>2</th>\n",
       "      <td>Kuda, warangal</td>\n",
       "      <td>58</td>\n",
       "      <td>64.000000</td>\n",
       "      <td>49.105826</td>\n",
       "      <td>66.173930</td>\n",
       "      <td>53.704530</td>\n",
       "      <td>72</td>\n",
       "      <td>40.428571</td>\n",
       "      <td>43</td>\n",
       "      <td>41</td>\n",
       "      <td>64</td>\n",
       "      <td>49</td>\n",
       "      <td>116</td>\n",
       "    </tr>\n",
       "    <tr>\n",
       "      <th>3</th>\n",
       "      <td>Mee-Seva, Warangal</td>\n",
       "      <td>73</td>\n",
       "      <td>72.514053</td>\n",
       "      <td>76.057747</td>\n",
       "      <td>60.080031</td>\n",
       "      <td>77.094650</td>\n",
       "      <td>85</td>\n",
       "      <td>47.268637</td>\n",
       "      <td>56</td>\n",
       "      <td>48</td>\n",
       "      <td>64</td>\n",
       "      <td>94</td>\n",
       "      <td>94</td>\n",
       "    </tr>\n",
       "    <tr>\n",
       "      <th>4</th>\n",
       "      <td>Karimnagar</td>\n",
       "      <td>82</td>\n",
       "      <td>90.333333</td>\n",
       "      <td>95.666667</td>\n",
       "      <td>69.926215</td>\n",
       "      <td>76.241282</td>\n",
       "      <td>89</td>\n",
       "      <td>69.197791</td>\n",
       "      <td>55</td>\n",
       "      <td>58</td>\n",
       "      <td>63</td>\n",
       "      <td>101</td>\n",
       "      <td>126</td>\n",
       "    </tr>\n",
       "    <tr>\n",
       "      <th>5</th>\n",
       "      <td>Khammam</td>\n",
       "      <td>80</td>\n",
       "      <td>78.079300</td>\n",
       "      <td>76.518519</td>\n",
       "      <td>79.365731</td>\n",
       "      <td>76.611111</td>\n",
       "      <td>81</td>\n",
       "      <td>72.500000</td>\n",
       "      <td>58</td>\n",
       "      <td>42</td>\n",
       "      <td>57</td>\n",
       "      <td>78</td>\n",
       "      <td>115</td>\n",
       "    </tr>\n",
       "  </tbody>\n",
       "</table>\n",
       "</div>"
      ],
      "text/plain": [
       "             Location  2022-01-01 00:00:00  2022-02-01 00:00:00  \\\n",
       "0           Nizamabad                   56            59.000000   \n",
       "1            Adilabad                   54            55.000000   \n",
       "2      Kuda, warangal                   58            64.000000   \n",
       "3  Mee-Seva, Warangal                   73            72.514053   \n",
       "4          Karimnagar                   82            90.333333   \n",
       "5             Khammam                   80            78.079300   \n",
       "\n",
       "   2022-03-01 00:00:00  2022-04-01 00:00:00  2022-05-01 00:00:00  \\\n",
       "0            64.000000            58.000000            56.222222   \n",
       "1            56.000000            65.000000            60.148148   \n",
       "2            49.105826            66.173930            53.704530   \n",
       "3            76.057747            60.080031            77.094650   \n",
       "4            95.666667            69.926215            76.241282   \n",
       "5            76.518519            79.365731            76.611111   \n",
       "\n",
       "   2022-06-01 00:00:00  2022-07-01 00:00:00  2022-08-01 00:00:00  \\\n",
       "0                   54            46.000000                   53   \n",
       "1                   58            48.000000                   56   \n",
       "2                   72            40.428571                   43   \n",
       "3                   85            47.268637                   56   \n",
       "4                   89            69.197791                   55   \n",
       "5                   81            72.500000                   58   \n",
       "\n",
       "   2022-09-01 00:00:00  2022-10-01 00:00:00  2022-11-01 00:00:00  \\\n",
       "0                   54                   63                   56   \n",
       "1                   56                   65                   58   \n",
       "2                   41                   64                   49   \n",
       "3                   48                   64                   94   \n",
       "4                   58                   63                  101   \n",
       "5                   42                   57                   78   \n",
       "\n",
       "   2022-12-01 00:00:00  \n",
       "0                   59  \n",
       "1                   62  \n",
       "2                  116  \n",
       "3                   94  \n",
       "4                  126  \n",
       "5                  115  "
      ]
     },
     "execution_count": 418,
     "metadata": {},
     "output_type": "execute_result"
    }
   ],
   "source": [
    "data22"
   ]
  },
  {
   "cell_type": "markdown",
   "id": "c7fe681f",
   "metadata": {},
   "source": [
    "# Dataset of Adilabad"
   ]
  },
  {
   "cell_type": "code",
   "execution_count": null,
   "id": "202940e6",
   "metadata": {},
   "outputs": [
    {
     "data": {
      "text/plain": [
       "[67.0,\n",
       " 68.0,\n",
       " 71.0,\n",
       " 70.0,\n",
       " 71.0,\n",
       " 40.0,\n",
       " 60.0,\n",
       " 61.0,\n",
       " 58.0,\n",
       " 67.0,\n",
       " 63.0,\n",
       " 65,\n",
       " 63.666666666666664,\n",
       " 63.55555555555556,\n",
       " 67.66666666666667,\n",
       " 68.96296296296298,\n",
       " 70.62962962962963,\n",
       " 65.62962962962963,\n",
       " 62.0,\n",
       " 59.55555555555556,\n",
       " 61.44444444444444,\n",
       " 65.11111111111111,\n",
       " 63.44444444444444,\n",
       " 63.629629629629626,\n",
       " 66.1111111111111,\n",
       " 67.0,\n",
       " 70.3333333333333,\n",
       " 73.5185185185185,\n",
       " 74.1111111111111,\n",
       " 68.6666666666667,\n",
       " 63.7777777777778,\n",
       " 64.0,\n",
       " 61.5555555555556,\n",
       " 67.1111111111111,\n",
       " 74.7777777777778,\n",
       " 81,\n",
       " 76.3333333333333,\n",
       " 76.7777777777778,\n",
       " 78.5555555555556,\n",
       " 78.0,\n",
       " 80.3333333333333,\n",
       " 76.5555555555556,\n",
       " 78.0,\n",
       " 79.0,\n",
       " 73.4444444444444,\n",
       " 72.3703703703704,\n",
       " 78.6666666666667,\n",
       " 73.3703703703704,\n",
       " 78.0,\n",
       " 81.7037037037037,\n",
       " 70.8148148148148,\n",
       " 51.5,\n",
       " 72,\n",
       " 74.0,\n",
       " 74,\n",
       " 72.0,\n",
       " 72,\n",
       " 72,\n",
       " 72.0,\n",
       " 72.0,\n",
       " 69.0,\n",
       " 62,\n",
       " 73,\n",
       " 74,\n",
       " 67,\n",
       " 69,\n",
       " 69,\n",
       " 69,\n",
       " 69.0,\n",
       " 69,\n",
       " 69,\n",
       " 69.0,\n",
       " 54,\n",
       " 55.0,\n",
       " 56.0,\n",
       " 65.0,\n",
       " 60.1481481481481,\n",
       " 58,\n",
       " 48.0,\n",
       " 56,\n",
       " 56,\n",
       " 65,\n",
       " 58,\n",
       " 62]"
      ]
     },
     "execution_count": 419,
     "metadata": {},
     "output_type": "execute_result"
    }
   ],
   "source": [
    "Adilabad_data=list(data16.T[1][1:-6])+list(data17.T[1][1:-1])+list(data18.T[1][1:])+list(data19.T[1][1:])+list(data20.T[1][1:])+list(data21.T[1][1:])+list(data22.T[1][1:])\n",
    "\n",
    "dt=Adilabad_data\n",
    "\n",
    "dt"
   ]
  },
  {
   "cell_type": "code",
   "execution_count": null,
   "id": "6188f6a2",
   "metadata": {},
   "outputs": [
    {
     "data": {
      "text/plain": [
       "['1-1-2016',\n",
       " '1-2-2016',\n",
       " '1-3-2016',\n",
       " '1-4-2016',\n",
       " '1-5-2016',\n",
       " '1-6-2016',\n",
       " '1-7-2016',\n",
       " '1-8-2016',\n",
       " '1-9-2016',\n",
       " '1-10-2016',\n",
       " '1-11-2016',\n",
       " '1-12-2016',\n",
       " '1-1-2017',\n",
       " '1-2-2017',\n",
       " '1-3-2017',\n",
       " '1-4-2017',\n",
       " '1-5-2017',\n",
       " '1-6-2017',\n",
       " '1-7-2017',\n",
       " '1-8-2017',\n",
       " '1-9-2017',\n",
       " '1-10-2017',\n",
       " '1-11-2017',\n",
       " '1-12-2017',\n",
       " '1-1-2018',\n",
       " '1-2-2018',\n",
       " '1-3-2018',\n",
       " '1-4-2018',\n",
       " '1-5-2018',\n",
       " '1-6-2018',\n",
       " '1-7-2018',\n",
       " '1-8-2018',\n",
       " '1-9-2018',\n",
       " '1-10-2018',\n",
       " '1-11-2018',\n",
       " '1-12-2018',\n",
       " '1-1-2019',\n",
       " '1-2-2019',\n",
       " '1-3-2019',\n",
       " '1-4-2019',\n",
       " '1-5-2019',\n",
       " '1-6-2019',\n",
       " '1-7-2019',\n",
       " '1-8-2019',\n",
       " '1-9-2019',\n",
       " '1-10-2019',\n",
       " '1-11-2019',\n",
       " '1-12-2019',\n",
       " '1-1-2020',\n",
       " '1-2-2020',\n",
       " '1-3-2020',\n",
       " '1-4-2020',\n",
       " '1-5-2020',\n",
       " '1-6-2020',\n",
       " '1-7-2020',\n",
       " '1-8-2020',\n",
       " '1-9-2020',\n",
       " '1-10-2020',\n",
       " '1-11-2020',\n",
       " '1-12-2020',\n",
       " '1-1-2021',\n",
       " '1-2-2021',\n",
       " '1-3-2021',\n",
       " '1-4-2021',\n",
       " '1-5-2021',\n",
       " '1-6-2021',\n",
       " '1-7-2021',\n",
       " '1-8-2021',\n",
       " '1-9-2021',\n",
       " '1-10-2021',\n",
       " '1-11-2021',\n",
       " '1-12-2021',\n",
       " '1-1-2022',\n",
       " '1-2-2022',\n",
       " '1-3-2022',\n",
       " '1-4-2022',\n",
       " '1-5-2022',\n",
       " '1-6-2022',\n",
       " '1-7-2022',\n",
       " '1-8-2022',\n",
       " '1-9-2022',\n",
       " '1-10-2022',\n",
       " '1-11-2022',\n",
       " '1-12-2022']"
      ]
     },
     "execution_count": 420,
     "metadata": {},
     "output_type": "execute_result"
    }
   ],
   "source": [
    "L=['1-1-2016','1-2-2016','1-3-2016','1-4-2016','1-5-2016','1-6-2016','1-7-2016','1-8-2016','1-9-2016','1-10-2016','1-11-2016','1-12-2016','1-1-2017','1-2-2017','1-3-2017','1-4-2017','1-5-2017','1-6-2017','1-7-2017','1-8-2017','1-9-2017','1-10-2017','1-11-2017','1-12-2017']\n",
    "L=L+['1-1-2018','1-2-2018','1-3-2018','1-4-2018','1-5-2018','1-6-2018','1-7-2018','1-8-2018','1-9-2018','1-10-2018','1-11-2018','1-12-2018']\n",
    "L=L+['1-1-2019','1-2-2019','1-3-2019','1-4-2019','1-5-2019','1-6-2019','1-7-2019','1-8-2019','1-9-2019','1-10-2019','1-11-2019','1-12-2019']\n",
    "L=L+['1-1-2020','1-2-2020','1-3-2020','1-4-2020','1-5-2020','1-6-2020','1-7-2020','1-8-2020','1-9-2020','1-10-2020','1-11-2020','1-12-2020']\n",
    "L=L+['1-1-2021','1-2-2021','1-3-2021','1-4-2021','1-5-2021','1-6-2021','1-7-2021','1-8-2021','1-9-2021','1-10-2021','1-11-2021','1-12-2021']\n",
    "L=L+['1-1-2022','1-2-2022','1-3-2022','1-4-2022','1-5-2022','1-6-2022','1-7-2022','1-8-2022','1-9-2022','1-10-2022','1-11-2022','1-12-2022']\n",
    "L"
   ]
  },
  {
   "cell_type": "code",
   "execution_count": null,
   "id": "75446180",
   "metadata": {},
   "outputs": [],
   "source": [
    "df=pd.DataFrame()\n",
    "df.reset_index()\n",
    "df[\"Date\"]=L\n",
    "df[\"AQI\"]=dt"
   ]
  },
  {
   "cell_type": "code",
   "execution_count": null,
   "id": "15709643",
   "metadata": {},
   "outputs": [
    {
     "name": "stdout",
     "output_type": "stream",
     "text": [
      "       Date        AQI\n",
      "72  01-2022  69.817473\n",
      "73  02-2022  68.547019\n",
      "74  03-2022  72.402495\n",
      "75  04-2022  69.426534\n",
      "76  05-2022  69.655308\n",
      "77  06-2022  50.434292\n",
      "78  07-2022  64.825030\n",
      "79  08-2022  65.876012\n",
      "80  09-2022  62.875621\n",
      "81  10-2022  68.021373\n",
      "82  11-2022  66.230453\n",
      "83  12-2022  67.520163\n"
     ]
    }
   ],
   "source": [
    "df1=df[[\"Date\",\"AQI\"]]\n",
    "df1['Date'] = pd.to_datetime(df1['Date'], format='%d-%m-%Y').dt.strftime('%m-%Y')\n",
    "\n",
    "df[\"Date\"]=pd.to_datetime(df[\"Date\"])\n",
    "print(df2)\n",
    "x=df[\"Date\"]\n",
    "y=df[\"AQI\"]\n",
    "#plt.plot(x,y)\n",
    "df=df.set_index(\"Date\")"
   ]
  },
  {
   "cell_type": "code",
   "execution_count": null,
   "id": "0717301b",
   "metadata": {},
   "outputs": [
    {
     "data": {
      "text/html": [
       "<div>\n",
       "<style scoped>\n",
       "    .dataframe tbody tr th:only-of-type {\n",
       "        vertical-align: middle;\n",
       "    }\n",
       "\n",
       "    .dataframe tbody tr th {\n",
       "        vertical-align: top;\n",
       "    }\n",
       "\n",
       "    .dataframe thead th {\n",
       "        text-align: right;\n",
       "    }\n",
       "</style>\n",
       "<table border=\"1\" class=\"dataframe\">\n",
       "  <thead>\n",
       "    <tr style=\"text-align: right;\">\n",
       "      <th></th>\n",
       "      <th>AQI</th>\n",
       "    </tr>\n",
       "    <tr>\n",
       "      <th>Date</th>\n",
       "      <th></th>\n",
       "    </tr>\n",
       "  </thead>\n",
       "  <tbody>\n",
       "    <tr>\n",
       "      <th>2016-01-01</th>\n",
       "      <td>67.0</td>\n",
       "    </tr>\n",
       "    <tr>\n",
       "      <th>2016-01-02</th>\n",
       "      <td>68.0</td>\n",
       "    </tr>\n",
       "    <tr>\n",
       "      <th>2016-01-03</th>\n",
       "      <td>71.0</td>\n",
       "    </tr>\n",
       "    <tr>\n",
       "      <th>2016-01-04</th>\n",
       "      <td>70.0</td>\n",
       "    </tr>\n",
       "    <tr>\n",
       "      <th>2016-01-05</th>\n",
       "      <td>71.0</td>\n",
       "    </tr>\n",
       "    <tr>\n",
       "      <th>...</th>\n",
       "      <td>...</td>\n",
       "    </tr>\n",
       "    <tr>\n",
       "      <th>2022-01-08</th>\n",
       "      <td>56.0</td>\n",
       "    </tr>\n",
       "    <tr>\n",
       "      <th>2022-01-09</th>\n",
       "      <td>56.0</td>\n",
       "    </tr>\n",
       "    <tr>\n",
       "      <th>2022-01-10</th>\n",
       "      <td>65.0</td>\n",
       "    </tr>\n",
       "    <tr>\n",
       "      <th>2022-01-11</th>\n",
       "      <td>58.0</td>\n",
       "    </tr>\n",
       "    <tr>\n",
       "      <th>2022-01-12</th>\n",
       "      <td>62.0</td>\n",
       "    </tr>\n",
       "  </tbody>\n",
       "</table>\n",
       "<p>84 rows × 1 columns</p>\n",
       "</div>"
      ],
      "text/plain": [
       "             AQI\n",
       "Date            \n",
       "2016-01-01  67.0\n",
       "2016-01-02  68.0\n",
       "2016-01-03  71.0\n",
       "2016-01-04  70.0\n",
       "2016-01-05  71.0\n",
       "...          ...\n",
       "2022-01-08  56.0\n",
       "2022-01-09  56.0\n",
       "2022-01-10  65.0\n",
       "2022-01-11  58.0\n",
       "2022-01-12  62.0\n",
       "\n",
       "[84 rows x 1 columns]"
      ]
     },
     "execution_count": 423,
     "metadata": {},
     "output_type": "execute_result"
    }
   ],
   "source": [
    "df"
   ]
  },
  {
   "cell_type": "code",
   "execution_count": null,
   "id": "f31f0ca5",
   "metadata": {},
   "outputs": [
    {
     "data": {
      "text/plain": [
       "0     01-2016\n",
       "1     02-2016\n",
       "2     03-2016\n",
       "3     04-2016\n",
       "4     05-2016\n",
       "       ...   \n",
       "79    08-2022\n",
       "80    09-2022\n",
       "81    10-2022\n",
       "82    11-2022\n",
       "83    12-2022\n",
       "Name: Date, Length: 84, dtype: object"
      ]
     },
     "execution_count": 424,
     "metadata": {},
     "output_type": "execute_result"
    }
   ],
   "source": [
    "df1[\"Date\"]"
   ]
  },
  {
   "cell_type": "markdown",
   "id": "4e4d0d11",
   "metadata": {},
   "source": [
    "# AQI levels of Adilabad between 2016 and 2022"
   ]
  },
  {
   "cell_type": "code",
   "execution_count": null,
   "id": "ea7b6815",
   "metadata": {
    "scrolled": true
   },
   "outputs": [
    {
     "data": {
      "image/png": "[encoded data removed]",
      "text/plain": [
       "<Figure size 640x480 with 1 Axes>"
      ]
     },
     "metadata": {},
     "output_type": "display_data"
    }
   ],
   "source": [
    "fig, ax = plt.subplots()\n",
    "ax.plot_date(df1[\"Date\"],y, marker='', linestyle='-')\n",
    "\n",
    "fig.autofmt_xdate()\n",
    "\n",
    "\n",
    "plt.title(\"AQI levels of Adilabad for each month between 2016 and 2022\")\n",
    "plt.xlabel(\"Years\")\n",
    "plt.ylabel(\"AQI levels\")\n",
    "\n",
    "plt.setp(ax.get_xticklabels(), rotation=60, horizontalalignment='right')\n",
    "for label in (ax.get_xticklabels() + ax.get_yticklabels()):label.set_fontsize(5)\n",
    "plt.show()"
   ]
  },
  {
   "cell_type": "code",
   "execution_count": null,
   "id": "44fd4b3b",
   "metadata": {},
   "outputs": [],
   "source": [
    "from sklearn.model_selection import train_test_split\n",
    "x_train,x_test,y_train,y_test = train_test_split(x,y,test_size=0.25,\n",
    "                                                random_state=666)"
   ]
  },
  {
   "cell_type": "code",
   "execution_count": null,
   "id": "005ca2ce",
   "metadata": {},
   "outputs": [
    {
     "name": "stdout",
     "output_type": "stream",
     "text": [
      "The p-value of the dataset is 0.0004326362011711683\n"
     ]
    }
   ],
   "source": [
    "from statsmodels.tsa.stattools import adfuller\n",
    "dfa=adfuller(df)\n",
    "print(\"The p-value of the dataset is\",dfa[1])"
   ]
  },
  {
   "cell_type": "code",
   "execution_count": null,
   "id": "26c1c0cb",
   "metadata": {},
   "outputs": [],
   "source": [
    "#plt.plot(df)"
   ]
  },
  {
   "cell_type": "code",
   "execution_count": null,
   "id": "24610807",
   "metadata": {},
   "outputs": [
    {
     "name": "stdout",
     "output_type": "stream",
     "text": [
      "Performing stepwise search to minimize aic\n",
      " ARIMA(2,0,2)(0,0,0)[0] intercept   : AIC=548.621, Time=0.57 sec\n",
      " ARIMA(0,0,0)(0,0,0)[0] intercept   : AIC=585.753, Time=0.02 sec\n",
      " ARIMA(1,0,0)(0,0,0)[0] intercept   : AIC=547.084, Time=0.08 sec\n",
      " ARIMA(0,0,1)(0,0,0)[0] intercept   : AIC=560.573, Time=0.11 sec\n",
      " ARIMA(0,0,0)(0,0,0)[0]             : AIC=949.194, Time=0.03 sec\n",
      " ARIMA(2,0,0)(0,0,0)[0] intercept   : AIC=547.785, Time=0.15 sec\n",
      " ARIMA(1,0,1)(0,0,0)[0] intercept   : AIC=546.847, Time=0.32 sec\n",
      " ARIMA(2,0,1)(0,0,0)[0] intercept   : AIC=547.496, Time=0.40 sec\n",
      " ARIMA(1,0,2)(0,0,0)[0] intercept   : AIC=546.708, Time=0.36 sec\n",
      " ARIMA(0,0,2)(0,0,0)[0] intercept   : AIC=555.104, Time=0.12 sec\n",
      " ARIMA(1,0,3)(0,0,0)[0] intercept   : AIC=548.547, Time=0.54 sec\n",
      " ARIMA(0,0,3)(0,0,0)[0] intercept   : AIC=554.036, Time=0.18 sec\n",
      " ARIMA(2,0,3)(0,0,0)[0] intercept   : AIC=550.042, Time=0.58 sec\n",
      " ARIMA(1,0,2)(0,0,0)[0]             : AIC=552.095, Time=0.19 sec\n",
      "\n",
      "Best model:  ARIMA(1,0,2)(0,0,0)[0] intercept\n",
      "Total fit time: 3.669 seconds\n"
     ]
    },
    {
     "data": {
      "text/html": [
       "<table class=\"simpletable\">\n",
       "<caption>SARIMAX Results</caption>\n",
       "<tr>\n",
       "  <th>Dep. Variable:</th>           <td>y</td>        <th>  No. Observations:  </th>    <td>84</td>   \n",
       "</tr>\n",
       "<tr>\n",
       "  <th>Model:</th>           <td>SARIMAX(1, 0, 2)</td> <th>  Log Likelihood     </th> <td>-268.354</td>\n",
       "</tr>\n",
       "<tr>\n",
       "  <th>Date:</th>            <td>Sat, 04 Mar 2023</td> <th>  AIC                </th>  <td>546.708</td>\n",
       "</tr>\n",
       "<tr>\n",
       "  <th>Time:</th>                <td>18:42:32</td>     <th>  BIC                </th>  <td>558.862</td>\n",
       "</tr>\n",
       "<tr>\n",
       "  <th>Sample:</th>                  <td>0</td>        <th>  HQIC               </th>  <td>551.594</td>\n",
       "</tr>\n",
       "<tr>\n",
       "  <th></th>                       <td> - 84</td>      <th>                     </th>     <td> </td>   \n",
       "</tr>\n",
       "<tr>\n",
       "  <th>Covariance Type:</th>        <td>opg</td>       <th>                     </th>     <td> </td>   \n",
       "</tr>\n",
       "</table>\n",
       "<table class=\"simpletable\">\n",
       "<tr>\n",
       "      <td></td>         <th>coef</th>     <th>std err</th>      <th>z</th>      <th>P>|z|</th>  <th>[0.025</th>    <th>0.975]</th>  \n",
       "</tr>\n",
       "<tr>\n",
       "  <th>intercept</th> <td>    5.2812</td> <td>    7.087</td> <td>    0.745</td> <td> 0.456</td> <td>   -8.608</td> <td>   19.171</td>\n",
       "</tr>\n",
       "<tr>\n",
       "  <th>ar.L1</th>     <td>    0.9209</td> <td>    0.104</td> <td>    8.861</td> <td> 0.000</td> <td>    0.717</td> <td>    1.125</td>\n",
       "</tr>\n",
       "<tr>\n",
       "  <th>ma.L1</th>     <td>   -0.4368</td> <td>    0.128</td> <td>   -3.421</td> <td> 0.001</td> <td>   -0.687</td> <td>   -0.187</td>\n",
       "</tr>\n",
       "<tr>\n",
       "  <th>ma.L2</th>     <td>   -0.1782</td> <td>    0.203</td> <td>   -0.877</td> <td> 0.380</td> <td>   -0.576</td> <td>    0.220</td>\n",
       "</tr>\n",
       "<tr>\n",
       "  <th>sigma2</th>    <td>   34.5664</td> <td>    3.914</td> <td>    8.830</td> <td> 0.000</td> <td>   26.894</td> <td>   42.239</td>\n",
       "</tr>\n",
       "</table>\n",
       "<table class=\"simpletable\">\n",
       "<tr>\n",
       "  <th>Ljung-Box (L1) (Q):</th>     <td>0.02</td> <th>  Jarque-Bera (JB):  </th> <td>254.70</td>\n",
       "</tr>\n",
       "<tr>\n",
       "  <th>Prob(Q):</th>                <td>0.90</td> <th>  Prob(JB):          </th>  <td>0.00</td> \n",
       "</tr>\n",
       "<tr>\n",
       "  <th>Heteroskedasticity (H):</th> <td>0.64</td> <th>  Skew:              </th>  <td>-2.08</td>\n",
       "</tr>\n",
       "<tr>\n",
       "  <th>Prob(H) (two-sided):</th>    <td>0.24</td> <th>  Kurtosis:          </th>  <td>10.45</td>\n",
       "</tr>\n",
       "</table><br/><br/>Warnings:<br/>[1] Covariance matrix calculated using the outer product of gradients (complex-step)."
      ],
      "text/plain": [
       "<class 'statsmodels.iolib.summary.Summary'>\n",
       "\"\"\"\n",
       "                               SARIMAX Results                                \n",
       "==============================================================================\n",
       "Dep. Variable:                      y   No. Observations:                   84\n",
       "Model:               SARIMAX(1, 0, 2)   Log Likelihood                -268.354\n",
       "Date:                Sat, 04 Mar 2023   AIC                            546.708\n",
       "Time:                        18:42:32   BIC                            558.862\n",
       "Sample:                             0   HQIC                           551.594\n",
       "                                 - 84                                         \n",
       "Covariance Type:                  opg                                         \n",
       "==============================================================================\n",
       "                 coef    std err          z      P>|z|      [0.025      0.975]\n",
       "------------------------------------------------------------------------------\n",
       "intercept      5.2812      7.087      0.745      0.456      -8.608      19.171\n",
       "ar.L1          0.9209      0.104      8.861      0.000       0.717       1.125\n",
       "ma.L1         -0.4368      0.128     -3.421      0.001      -0.687      -0.187\n",
       "ma.L2         -0.1782      0.203     -0.877      0.380      -0.576       0.220\n",
       "sigma2        34.5664      3.914      8.830      0.000      26.894      42.239\n",
       "===================================================================================\n",
       "Ljung-Box (L1) (Q):                   0.02   Jarque-Bera (JB):               254.70\n",
       "Prob(Q):                              0.90   Prob(JB):                         0.00\n",
       "Heteroskedasticity (H):               0.64   Skew:                            -2.08\n",
       "Prob(H) (two-sided):                  0.24   Kurtosis:                        10.45\n",
       "===================================================================================\n",
       "\n",
       "Warnings:\n",
       "[1] Covariance matrix calculated using the outer product of gradients (complex-step).\n",
       "\"\"\""
      ]
     },
     "execution_count": 429,
     "metadata": {},
     "output_type": "execute_result"
    }
   ],
   "source": [
    "from pmdarima import auto_arima\n",
    "  \n",
    "# Ignore harmless warnings\n",
    "import warnings\n",
    "warnings.filterwarnings(\"ignore\")\n",
    "fit=auto_arima(df[\"AQI\"],trace=True,suppress_warning=True)\n",
    "fit.summary()"
   ]
  },
  {
   "cell_type": "code",
   "execution_count": null,
   "id": "41b6c1ec",
   "metadata": {},
   "outputs": [
    {
     "data": {
      "text/plain": [
       "'df.sort_index(inplace=True)\\ndf'"
      ]
     },
     "execution_count": 430,
     "metadata": {},
     "output_type": "execute_result"
    }
   ],
   "source": [
    "'''df.sort_index(inplace=True)\n",
    "df'''"
   ]
  },
  {
   "cell_type": "code",
   "execution_count": null,
   "id": "d9e4da08",
   "metadata": {},
   "outputs": [],
   "source": [
    "train=df.iloc[:-12]\n",
    "test=df.iloc[-12:]"
   ]
  },
  {
   "cell_type": "markdown",
   "id": "573eff7a",
   "metadata": {},
   "source": [
    "# ARIMA model"
   ]
  },
  {
   "cell_type": "code",
   "execution_count": null,
   "id": "730004ad",
   "metadata": {},
   "outputs": [
    {
     "name": "stdout",
     "output_type": "stream",
     "text": [
      "             AQI\n",
      "Date            \n",
      "2016-01-01  67.0\n",
      "2016-01-02  68.0\n",
      "2016-01-03  71.0\n",
      "2016-01-04  70.0\n",
      "2016-01-05  71.0\n",
      "...          ...\n",
      "2021-01-08  69.0\n",
      "2021-01-09  69.0\n",
      "2021-01-10  69.0\n",
      "2021-01-11  69.0\n",
      "2021-01-12  69.0\n",
      "\n",
      "[72 rows x 1 columns]\n"
     ]
    },
    {
     "data": {
      "text/html": [
       "<table class=\"simpletable\">\n",
       "<caption>SARIMAX Results</caption>\n",
       "<tr>\n",
       "  <th>Dep. Variable:</th>                <td>AQI</td>             <th>  No. Observations:  </th>    <td>72</td>   \n",
       "</tr>\n",
       "<tr>\n",
       "  <th>Model:</th>           <td>ARIMA(1, 0, 2)x(9, 1, 2, 12)</td> <th>  Log Likelihood     </th> <td>-198.404</td>\n",
       "</tr>\n",
       "<tr>\n",
       "  <th>Date:</th>                  <td>Sat, 04 Mar 2023</td>       <th>  AIC                </th>  <td>426.808</td>\n",
       "</tr>\n",
       "<tr>\n",
       "  <th>Time:</th>                      <td>18:43:43</td>           <th>  BIC                </th>  <td>458.223</td>\n",
       "</tr>\n",
       "<tr>\n",
       "  <th>Sample:</th>                        <td>0</td>              <th>  HQIC               </th>  <td>439.096</td>\n",
       "</tr>\n",
       "<tr>\n",
       "  <th></th>                             <td> - 72</td>            <th>                     </th>     <td> </td>   \n",
       "</tr>\n",
       "<tr>\n",
       "  <th>Covariance Type:</th>              <td>opg</td>             <th>                     </th>     <td> </td>   \n",
       "</tr>\n",
       "</table>\n",
       "<table class=\"simpletable\">\n",
       "<tr>\n",
       "      <td></td>         <th>coef</th>     <th>std err</th>      <th>z</th>      <th>P>|z|</th>  <th>[0.025</th>    <th>0.975]</th>  \n",
       "</tr>\n",
       "<tr>\n",
       "  <th>ar.L1</th>     <td>    0.9933</td> <td>    1.300</td> <td>    0.764</td> <td> 0.445</td> <td>   -1.556</td> <td>    3.542</td>\n",
       "</tr>\n",
       "<tr>\n",
       "  <th>ma.L1</th>     <td>   -0.4070</td> <td>    0.209</td> <td>   -1.950</td> <td> 0.051</td> <td>   -0.816</td> <td>    0.002</td>\n",
       "</tr>\n",
       "<tr>\n",
       "  <th>ma.L2</th>     <td>   -0.3547</td> <td>    0.366</td> <td>   -0.969</td> <td> 0.332</td> <td>   -1.072</td> <td>    0.363</td>\n",
       "</tr>\n",
       "<tr>\n",
       "  <th>ar.S.L12</th>  <td>   -0.9971</td> <td> 1323.654</td> <td>   -0.001</td> <td> 0.999</td> <td>-2595.312</td> <td> 2593.317</td>\n",
       "</tr>\n",
       "<tr>\n",
       "  <th>ar.S.L24</th>  <td>   -0.6292</td> <td>  966.853</td> <td>   -0.001</td> <td> 0.999</td> <td>-1895.627</td> <td> 1894.368</td>\n",
       "</tr>\n",
       "<tr>\n",
       "  <th>ar.S.L36</th>  <td>   -0.5893</td> <td>  886.506</td> <td>   -0.001</td> <td> 0.999</td> <td>-1738.110</td> <td> 1736.931</td>\n",
       "</tr>\n",
       "<tr>\n",
       "  <th>ar.S.L48</th>  <td>   -0.6585</td> <td>  673.683</td> <td>   -0.001</td> <td> 0.999</td> <td>-1321.052</td> <td> 1319.735</td>\n",
       "</tr>\n",
       "<tr>\n",
       "  <th>ar.S.L60</th>  <td>   -1.0169</td> <td>  797.761</td> <td>   -0.001</td> <td> 0.999</td> <td>-1564.600</td> <td> 1562.566</td>\n",
       "</tr>\n",
       "<tr>\n",
       "  <th>ar.S.L72</th>  <td>   -0.5863</td> <td> 1288.279</td> <td>   -0.000</td> <td> 1.000</td> <td>-2525.567</td> <td> 2524.394</td>\n",
       "</tr>\n",
       "<tr>\n",
       "  <th>ar.S.L84</th>  <td>    0.1721</td> <td>  396.613</td> <td>    0.000</td> <td> 1.000</td> <td> -777.176</td> <td>  777.520</td>\n",
       "</tr>\n",
       "<tr>\n",
       "  <th>ar.S.L96</th>  <td>    0.0820</td> <td>  376.636</td> <td>    0.000</td> <td> 1.000</td> <td> -738.111</td> <td>  738.275</td>\n",
       "</tr>\n",
       "<tr>\n",
       "  <th>ar.S.L108</th> <td>    0.0153</td> <td>  395.632</td> <td> 3.88e-05</td> <td> 1.000</td> <td> -775.409</td> <td>  775.440</td>\n",
       "</tr>\n",
       "<tr>\n",
       "  <th>ma.S.L12</th>  <td>   -0.6791</td> <td> 1760.967</td> <td>   -0.000</td> <td> 1.000</td> <td>-3452.112</td> <td> 3450.754</td>\n",
       "</tr>\n",
       "<tr>\n",
       "  <th>ma.S.L24</th>  <td>   -0.0377</td> <td>  453.708</td> <td> -8.3e-05</td> <td> 1.000</td> <td> -889.289</td> <td>  889.214</td>\n",
       "</tr>\n",
       "<tr>\n",
       "  <th>sigma2</th>    <td>    4.6568</td> <td> 2.18e+04</td> <td>    0.000</td> <td> 1.000</td> <td>-4.26e+04</td> <td> 4.26e+04</td>\n",
       "</tr>\n",
       "</table>\n",
       "<table class=\"simpletable\">\n",
       "<tr>\n",
       "  <th>Ljung-Box (L1) (Q):</th>     <td>0.17</td> <th>  Jarque-Bera (JB):  </th> <td>41.34</td>\n",
       "</tr>\n",
       "<tr>\n",
       "  <th>Prob(Q):</th>                <td>0.68</td> <th>  Prob(JB):          </th> <td>0.00</td> \n",
       "</tr>\n",
       "<tr>\n",
       "  <th>Heteroskedasticity (H):</th> <td>0.51</td> <th>  Skew:              </th> <td>-0.35</td>\n",
       "</tr>\n",
       "<tr>\n",
       "  <th>Prob(H) (two-sided):</th>    <td>0.14</td> <th>  Kurtosis:          </th> <td>7.01</td> \n",
       "</tr>\n",
       "</table><br/><br/>Warnings:<br/>[1] Covariance matrix calculated using the outer product of gradients (complex-step)."
      ],
      "text/plain": [
       "<class 'statsmodels.iolib.summary.Summary'>\n",
       "\"\"\"\n",
       "                                    SARIMAX Results                                     \n",
       "========================================================================================\n",
       "Dep. Variable:                              AQI   No. Observations:                   72\n",
       "Model:             ARIMA(1, 0, 2)x(9, 1, 2, 12)   Log Likelihood                -198.404\n",
       "Date:                          Sat, 04 Mar 2023   AIC                            426.808\n",
       "Time:                                  18:43:43   BIC                            458.223\n",
       "Sample:                                       0   HQIC                           439.096\n",
       "                                           - 72                                         \n",
       "Covariance Type:                            opg                                         \n",
       "==============================================================================\n",
       "                 coef    std err          z      P>|z|      [0.025      0.975]\n",
       "------------------------------------------------------------------------------\n",
       "ar.L1          0.9933      1.300      0.764      0.445      -1.556       3.542\n",
       "ma.L1         -0.4070      0.209     -1.950      0.051      -0.816       0.002\n",
       "ma.L2         -0.3547      0.366     -0.969      0.332      -1.072       0.363\n",
       "ar.S.L12      -0.9971   1323.654     -0.001      0.999   -2595.312    2593.317\n",
       "ar.S.L24      -0.6292    966.853     -0.001      0.999   -1895.627    1894.368\n",
       "ar.S.L36      -0.5893    886.506     -0.001      0.999   -1738.110    1736.931\n",
       "ar.S.L48      -0.6585    673.683     -0.001      0.999   -1321.052    1319.735\n",
       "ar.S.L60      -1.0169    797.761     -0.001      0.999   -1564.600    1562.566\n",
       "ar.S.L72      -0.5863   1288.279     -0.000      1.000   -2525.567    2524.394\n",
       "ar.S.L84       0.1721    396.613      0.000      1.000    -777.176     777.520\n",
       "ar.S.L96       0.0820    376.636      0.000      1.000    -738.111     738.275\n",
       "ar.S.L108      0.0153    395.632   3.88e-05      1.000    -775.409     775.440\n",
       "ma.S.L12      -0.6791   1760.967     -0.000      1.000   -3452.112    3450.754\n",
       "ma.S.L24      -0.0377    453.708   -8.3e-05      1.000    -889.289     889.214\n",
       "sigma2         4.6568   2.18e+04      0.000      1.000   -4.26e+04    4.26e+04\n",
       "===================================================================================\n",
       "Ljung-Box (L1) (Q):                   0.17   Jarque-Bera (JB):                41.34\n",
       "Prob(Q):                              0.68   Prob(JB):                         0.00\n",
       "Heteroskedasticity (H):               0.51   Skew:                            -0.35\n",
       "Prob(H) (two-sided):                  0.14   Kurtosis:                         7.01\n",
       "===================================================================================\n",
       "\n",
       "Warnings:\n",
       "[1] Covariance matrix calculated using the outer product of gradients (complex-step).\n",
       "\"\"\""
      ]
     },
     "execution_count": 432,
     "metadata": {},
     "output_type": "execute_result"
    }
   ],
   "source": [
    "from statsmodels.tsa.arima.model import ARIMA \n",
    "print(train)\n",
    "model =ARIMA(train,order=(1,0,2),seasonal_order=(9,1,2,12))\n",
    "model_fit =model.fit()\n",
    "model_fit.summary()"
   ]
  },
  {
   "cell_type": "code",
   "execution_count": null,
   "id": "d9859f01",
   "metadata": {},
   "outputs": [
    {
     "data": {
      "text/plain": [
       "[<matplotlib.lines.Line2D at 0x1d1192ff190>]"
      ]
     },
     "execution_count": 433,
     "metadata": {},
     "output_type": "execute_result"
    },
    {
     "data": {
      "image/png": "[encoded data removed]",
      "text/plain": [
       "<Figure size 640x480 with 1 Axes>"
      ]
     },
     "metadata": {},
     "output_type": "display_data"
    }
   ],
   "source": [
    "pred_new=model_fit.forecast(12)\n",
    "plt.plot(pred_new)"
   ]
  },
  {
   "cell_type": "code",
   "execution_count": null,
   "id": "d8537f7d",
   "metadata": {},
   "outputs": [],
   "source": [
    "#res.index"
   ]
  },
  {
   "cell_type": "code",
   "execution_count": null,
   "id": "9b2e225d",
   "metadata": {},
   "outputs": [],
   "source": [
    "time_list=['1-1-2022','1-2-2022','1-3-2022','1-4-2022','1-5-2022','1-6-2022','1-7-2022','1-8-2022','1-9-2022','1-10-2022','1-11-2022','1-12-2022']\n",
    "res=pd.DataFrame(pred_new)\n",
    "res[\"Date\"]=time_list\n",
    "a=list(res['predicted_mean'])\n",
    "res[\"AQI\"]=a\n",
    "res=res.drop([\"predicted_mean\"],axis=1)\n",
    "res[\"Date\"]=pd.to_datetime(res[\"Date\"])\n",
    "df2=res[[\"Date\",\"AQI\"]]\n",
    "df2['Date'] = pd.to_datetime(df2['Date'], format='%Y-%d-%m').dt.strftime('%d-%Y')\n",
    "res=res.set_index(\"Date\")"
   ]
  },
  {
   "cell_type": "code",
   "execution_count": null,
   "id": "afe06ba7",
   "metadata": {},
   "outputs": [],
   "source": [
    "final_data =train\n",
    "pred_data=final_data.append(res)"
   ]
  },
  {
   "cell_type": "code",
   "execution_count": null,
   "id": "e982328b",
   "metadata": {},
   "outputs": [],
   "source": [
    "#df2"
   ]
  },
  {
   "cell_type": "code",
   "execution_count": null,
   "id": "38f5c12d",
   "metadata": {},
   "outputs": [
    {
     "data": {
      "image/png": "[encoded data removed]",
      "text/plain": [
       "<Figure size 640x480 with 1 Axes>"
      ]
     },
     "metadata": {},
     "output_type": "display_data"
    }
   ],
   "source": [
    "fig, ax = plt.subplots()\n",
    "ax.plot_date(df1[\"Date\"][:-12],df1[\"AQI\"][:-12], marker='', linestyle='-')\n",
    "ax.plot_date(df2[\"Date\"],df2[\"AQI\"] ,marker='', linestyle='-')\n",
    "fig.autofmt_xdate()\n",
    "\n",
    "\n",
    "plt.title(\"Predcited value for 2022 with old data\",fontsize = 20,c='b')\n",
    "plt.xlabel(\"Time\",fontsize = 15)\n",
    "plt.ylabel(\"AQI lvl\",fontsize = 15)\n",
    "\n",
    "plt.setp(ax.get_xticklabels(), rotation=60, horizontalalignment='right')\n",
    "for label in (ax.get_xticklabels() + ax.get_yticklabels()):label.set_fontsize(4)\n",
    "plt.show()\n",
    "\n"
   ]
  },
  {
   "cell_type": "markdown",
   "id": "3192b8d1",
   "metadata": {},
   "source": [
    "# Performance of the model"
   ]
  },
  {
   "cell_type": "code",
   "execution_count": null,
   "id": "6ac5fa3b",
   "metadata": {},
   "outputs": [
    {
     "name": "stdout",
     "output_type": "stream",
     "text": [
      "Average Temperature         :  67.53373015873015\n",
      "Root mean Square value      :  10.821309767865095\n",
      "Mean absolute Error         :  9.801253552926267\n"
     ]
    }
   ],
   "source": [
    "from sklearn.metrics import mean_squared_error\n",
    "from sklearn.metrics import mean_absolute_error\n",
    "from math import sqrt\n",
    "L=[]\n",
    "for i in pred:\n",
    "    L.append(i)\n",
    "l=list(test[\"AQI\"])\n",
    "rmse=sqrt(mean_squared_error(pred,test[\"AQI\"]))\n",
    "ame=mean_absolute_error(pred,test[\"AQI\"])\n",
    "\n",
    "print(\"Average Temperature         : \",df['AQI'].mean())\n",
    "print(\"Root mean Square value      : \",rmse)\n",
    "print(\"Mean absolute Error         : \",ame)"
   ]
  },
  {
   "cell_type": "code",
   "execution_count": null,
   "id": "4199e3c5",
   "metadata": {},
   "outputs": [],
   "source": []
  },
  {
   "cell_type": "markdown",
   "id": "dc786348",
   "metadata": {},
   "source": [
    "# Forcasting for 2023"
   ]
  },
  {
   "cell_type": "code",
   "execution_count": null,
   "id": "dda5a462",
   "metadata": {},
   "outputs": [
    {
     "data": {
      "text/html": [
       "<table class=\"simpletable\">\n",
       "<caption>SARIMAX Results</caption>\n",
       "<tr>\n",
       "  <th>Dep. Variable:</th>                <td>AQI</td>             <th>  No. Observations:  </th>    <td>84</td>   \n",
       "</tr>\n",
       "<tr>\n",
       "  <th>Model:</th>           <td>ARIMA(1, 0, 2)x(9, 1, 2, 12)</td> <th>  Log Likelihood     </th> <td>-240.421</td>\n",
       "</tr>\n",
       "<tr>\n",
       "  <th>Date:</th>                  <td>Sat, 04 Mar 2023</td>       <th>  AIC                </th>  <td>510.841</td>\n",
       "</tr>\n",
       "<tr>\n",
       "  <th>Time:</th>                      <td>18:44:49</td>           <th>  BIC                </th>  <td>544.991</td>\n",
       "</tr>\n",
       "<tr>\n",
       "  <th>Sample:</th>                        <td>0</td>              <th>  HQIC               </th>  <td>524.437</td>\n",
       "</tr>\n",
       "<tr>\n",
       "  <th></th>                             <td> - 84</td>            <th>                     </th>     <td> </td>   \n",
       "</tr>\n",
       "<tr>\n",
       "  <th>Covariance Type:</th>              <td>opg</td>             <th>                     </th>     <td> </td>   \n",
       "</tr>\n",
       "</table>\n",
       "<table class=\"simpletable\">\n",
       "<tr>\n",
       "      <td></td>         <th>coef</th>     <th>std err</th>      <th>z</th>      <th>P>|z|</th>  <th>[0.025</th>    <th>0.975]</th>  \n",
       "</tr>\n",
       "<tr>\n",
       "  <th>ar.L1</th>     <td>    0.9836</td> <td>    0.324</td> <td>    3.034</td> <td> 0.002</td> <td>    0.348</td> <td>    1.619</td>\n",
       "</tr>\n",
       "<tr>\n",
       "  <th>ma.L1</th>     <td>   -0.4548</td> <td>    0.156</td> <td>   -2.924</td> <td> 0.003</td> <td>   -0.760</td> <td>   -0.150</td>\n",
       "</tr>\n",
       "<tr>\n",
       "  <th>ma.L2</th>     <td>   -0.2579</td> <td>    0.219</td> <td>   -1.177</td> <td> 0.239</td> <td>   -0.687</td> <td>    0.172</td>\n",
       "</tr>\n",
       "<tr>\n",
       "  <th>ar.S.L12</th>  <td>   -0.6484</td> <td> 2451.852</td> <td>   -0.000</td> <td> 1.000</td> <td>-4806.189</td> <td> 4804.893</td>\n",
       "</tr>\n",
       "<tr>\n",
       "  <th>ar.S.L24</th>  <td>   -0.7680</td> <td> 2140.530</td> <td>   -0.000</td> <td> 1.000</td> <td>-4196.129</td> <td> 4194.594</td>\n",
       "</tr>\n",
       "<tr>\n",
       "  <th>ar.S.L36</th>  <td>   -1.0100</td> <td> 1274.644</td> <td>   -0.001</td> <td> 0.999</td> <td>-2499.266</td> <td> 2497.246</td>\n",
       "</tr>\n",
       "<tr>\n",
       "  <th>ar.S.L48</th>  <td>   -0.8646</td> <td> 1339.285</td> <td>   -0.001</td> <td> 0.999</td> <td>-2625.816</td> <td> 2624.087</td>\n",
       "</tr>\n",
       "<tr>\n",
       "  <th>ar.S.L60</th>  <td>   -0.8130</td> <td> 1316.257</td> <td>   -0.001</td> <td> 1.000</td> <td>-2580.630</td> <td> 2579.004</td>\n",
       "</tr>\n",
       "<tr>\n",
       "  <th>ar.S.L72</th>  <td>   -1.2388</td> <td> 1191.057</td> <td>   -0.001</td> <td> 0.999</td> <td>-2335.668</td> <td> 2333.190</td>\n",
       "</tr>\n",
       "<tr>\n",
       "  <th>ar.S.L84</th>  <td>   -0.3641</td> <td> 1712.321</td> <td>   -0.000</td> <td> 1.000</td> <td>-3356.451</td> <td> 3355.723</td>\n",
       "</tr>\n",
       "<tr>\n",
       "  <th>ar.S.L96</th>  <td>   -0.3203</td> <td> 1785.444</td> <td>   -0.000</td> <td> 1.000</td> <td>-3499.727</td> <td> 3499.086</td>\n",
       "</tr>\n",
       "<tr>\n",
       "  <th>ar.S.L108</th> <td>   -0.2853</td> <td> 2043.557</td> <td>   -0.000</td> <td> 1.000</td> <td>-4005.584</td> <td> 4005.014</td>\n",
       "</tr>\n",
       "<tr>\n",
       "  <th>ma.S.L12</th>  <td>   -0.2896</td> <td> 4323.502</td> <td> -6.7e-05</td> <td> 1.000</td> <td>-8474.198</td> <td> 8473.619</td>\n",
       "</tr>\n",
       "<tr>\n",
       "  <th>ma.S.L24</th>  <td>   -0.4263</td> <td> 6446.698</td> <td>-6.61e-05</td> <td> 1.000</td> <td>-1.26e+04</td> <td> 1.26e+04</td>\n",
       "</tr>\n",
       "<tr>\n",
       "  <th>sigma2</th>    <td>    4.6976</td> <td> 1.58e+04</td> <td>    0.000</td> <td> 1.000</td> <td> -3.1e+04</td> <td>  3.1e+04</td>\n",
       "</tr>\n",
       "</table>\n",
       "<table class=\"simpletable\">\n",
       "<tr>\n",
       "  <th>Ljung-Box (L1) (Q):</th>     <td>0.00</td> <th>  Jarque-Bera (JB):  </th> <td>23.00</td>\n",
       "</tr>\n",
       "<tr>\n",
       "  <th>Prob(Q):</th>                <td>0.99</td> <th>  Prob(JB):          </th> <td>0.00</td> \n",
       "</tr>\n",
       "<tr>\n",
       "  <th>Heteroskedasticity (H):</th> <td>1.17</td> <th>  Skew:              </th> <td>-0.24</td>\n",
       "</tr>\n",
       "<tr>\n",
       "  <th>Prob(H) (two-sided):</th>    <td>0.71</td> <th>  Kurtosis:          </th> <td>5.73</td> \n",
       "</tr>\n",
       "</table><br/><br/>Warnings:<br/>[1] Covariance matrix calculated using the outer product of gradients (complex-step)."
      ],
      "text/plain": [
       "<class 'statsmodels.iolib.summary.Summary'>\n",
       "\"\"\"\n",
       "                                    SARIMAX Results                                     \n",
       "========================================================================================\n",
       "Dep. Variable:                              AQI   No. Observations:                   84\n",
       "Model:             ARIMA(1, 0, 2)x(9, 1, 2, 12)   Log Likelihood                -240.421\n",
       "Date:                          Sat, 04 Mar 2023   AIC                            510.841\n",
       "Time:                                  18:44:49   BIC                            544.991\n",
       "Sample:                                       0   HQIC                           524.437\n",
       "                                           - 84                                         \n",
       "Covariance Type:                            opg                                         \n",
       "==============================================================================\n",
       "                 coef    std err          z      P>|z|      [0.025      0.975]\n",
       "------------------------------------------------------------------------------\n",
       "ar.L1          0.9836      0.324      3.034      0.002       0.348       1.619\n",
       "ma.L1         -0.4548      0.156     -2.924      0.003      -0.760      -0.150\n",
       "ma.L2         -0.2579      0.219     -1.177      0.239      -0.687       0.172\n",
       "ar.S.L12      -0.6484   2451.852     -0.000      1.000   -4806.189    4804.893\n",
       "ar.S.L24      -0.7680   2140.530     -0.000      1.000   -4196.129    4194.594\n",
       "ar.S.L36      -1.0100   1274.644     -0.001      0.999   -2499.266    2497.246\n",
       "ar.S.L48      -0.8646   1339.285     -0.001      0.999   -2625.816    2624.087\n",
       "ar.S.L60      -0.8130   1316.257     -0.001      1.000   -2580.630    2579.004\n",
       "ar.S.L72      -1.2388   1191.057     -0.001      0.999   -2335.668    2333.190\n",
       "ar.S.L84      -0.3641   1712.321     -0.000      1.000   -3356.451    3355.723\n",
       "ar.S.L96      -0.3203   1785.444     -0.000      1.000   -3499.727    3499.086\n",
       "ar.S.L108     -0.2853   2043.557     -0.000      1.000   -4005.584    4005.014\n",
       "ma.S.L12      -0.2896   4323.502   -6.7e-05      1.000   -8474.198    8473.619\n",
       "ma.S.L24      -0.4263   6446.698  -6.61e-05      1.000   -1.26e+04    1.26e+04\n",
       "sigma2         4.6976   1.58e+04      0.000      1.000    -3.1e+04     3.1e+04\n",
       "===================================================================================\n",
       "Ljung-Box (L1) (Q):                   0.00   Jarque-Bera (JB):                23.00\n",
       "Prob(Q):                              0.99   Prob(JB):                         0.00\n",
       "Heteroskedasticity (H):               1.17   Skew:                            -0.24\n",
       "Prob(H) (two-sided):                  0.71   Kurtosis:                         5.73\n",
       "===================================================================================\n",
       "\n",
       "Warnings:\n",
       "[1] Covariance matrix calculated using the outer product of gradients (complex-step).\n",
       "\"\"\""
      ]
     },
     "execution_count": 440,
     "metadata": {},
     "output_type": "execute_result"
    }
   ],
   "source": [
    "model =ARIMA(df,order=(1,0,2),seasonal_order=(9,1,2,12))\n",
    "model_fit =model.fit()\n",
    "model_fit.summary()"
   ]
  },
  {
   "cell_type": "code",
   "execution_count": null,
   "id": "c9e4c87b",
   "metadata": {},
   "outputs": [
    {
     "name": "stdout",
     "output_type": "stream",
     "text": [
      "The predicted AQI values of each month of 2023 is:\n",
      "     predicted_mean\n",
      "84       60.942907\n",
      "85       62.829221\n",
      "86       64.357296\n",
      "87       67.650173\n",
      "88       65.855034\n",
      "89       37.942983\n",
      "90       52.902950\n",
      "91       58.592596\n",
      "92       54.641484\n",
      "93       65.847172\n",
      "94       60.798560\n",
      "95       64.679057\n"
     ]
    }
   ],
   "source": [
    "pred_new =model_fit.forecast(12)\n",
    "print(\"The predicted AQI values of each month of 2023 is:\\n\",pd.DataFrame(pred_new))"
   ]
  },
  {
   "cell_type": "code",
   "execution_count": null,
   "id": "4d8f8785",
   "metadata": {},
   "outputs": [
    {
     "data": {
      "text/html": [
       "<div>\n",
       "<style scoped>\n",
       "    .dataframe tbody tr th:only-of-type {\n",
       "        vertical-align: middle;\n",
       "    }\n",
       "\n",
       "    .dataframe tbody tr th {\n",
       "        vertical-align: top;\n",
       "    }\n",
       "\n",
       "    .dataframe thead th {\n",
       "        text-align: right;\n",
       "    }\n",
       "</style>\n",
       "<table border=\"1\" class=\"dataframe\">\n",
       "  <thead>\n",
       "    <tr style=\"text-align: right;\">\n",
       "      <th></th>\n",
       "      <th>AQI</th>\n",
       "    </tr>\n",
       "    <tr>\n",
       "      <th>Date</th>\n",
       "      <th></th>\n",
       "    </tr>\n",
       "  </thead>\n",
       "  <tbody>\n",
       "    <tr>\n",
       "      <th>01-2023</th>\n",
       "      <td>60.942907</td>\n",
       "    </tr>\n",
       "    <tr>\n",
       "      <th>02-2023</th>\n",
       "      <td>62.829221</td>\n",
       "    </tr>\n",
       "    <tr>\n",
       "      <th>03-2023</th>\n",
       "      <td>64.357296</td>\n",
       "    </tr>\n",
       "    <tr>\n",
       "      <th>04-2023</th>\n",
       "      <td>67.650173</td>\n",
       "    </tr>\n",
       "    <tr>\n",
       "      <th>05-2023</th>\n",
       "      <td>65.855034</td>\n",
       "    </tr>\n",
       "    <tr>\n",
       "      <th>06-2023</th>\n",
       "      <td>37.942983</td>\n",
       "    </tr>\n",
       "    <tr>\n",
       "      <th>07-2023</th>\n",
       "      <td>52.902950</td>\n",
       "    </tr>\n",
       "    <tr>\n",
       "      <th>08-2023</th>\n",
       "      <td>58.592596</td>\n",
       "    </tr>\n",
       "    <tr>\n",
       "      <th>09-2023</th>\n",
       "      <td>54.641484</td>\n",
       "    </tr>\n",
       "    <tr>\n",
       "      <th>10-2023</th>\n",
       "      <td>65.847172</td>\n",
       "    </tr>\n",
       "    <tr>\n",
       "      <th>11-2023</th>\n",
       "      <td>60.798560</td>\n",
       "    </tr>\n",
       "    <tr>\n",
       "      <th>12-2023</th>\n",
       "      <td>64.679057</td>\n",
       "    </tr>\n",
       "  </tbody>\n",
       "</table>\n",
       "</div>"
      ],
      "text/plain": [
       "               AQI\n",
       "Date              \n",
       "01-2023  60.942907\n",
       "02-2023  62.829221\n",
       "03-2023  64.357296\n",
       "04-2023  67.650173\n",
       "05-2023  65.855034\n",
       "06-2023  37.942983\n",
       "07-2023  52.902950\n",
       "08-2023  58.592596\n",
       "09-2023  54.641484\n",
       "10-2023  65.847172\n",
       "11-2023  60.798560\n",
       "12-2023  64.679057"
      ]
     },
     "execution_count": 442,
     "metadata": {},
     "output_type": "execute_result"
    }
   ],
   "source": [
    "res=pd.DataFrame(pred_new)\n",
    "res.columns=[\"AQI\"]\n",
    "time_list=['1-1-2023','1-2-2023','1-3-2023','1-4-2023','1-5-2023','1-6-2023','1-7-2023','1-8-2023','1-9-2023','1-10-2023','1-11-2023','1-12-2023']\n",
    "res[\"AQI\"]=pred_new\n",
    "res[\"Date\"]=time_list\n",
    "res[\"Date\"]=pd.to_datetime(res[\"Date\"])\n",
    "res['Date'] = pd.to_datetime(res['Date'], format='%Y-%d-%m').dt.strftime('%d-%Y')\n",
    "res=res.set_index(\"Date\")\n",
    "res"
   ]
  },
  {
   "cell_type": "code",
   "execution_count": null,
   "id": "8cdc995a",
   "metadata": {},
   "outputs": [
    {
     "data": {
      "image/png": "[encoded data removed]",
      "text/plain": [
       "<Figure size 640x480 with 1 Axes>"
      ]
     },
     "metadata": {},
     "output_type": "display_data"
    }
   ],
   "source": [
    "fig, ax = plt.subplots()\n",
    "ax.plot_date(df1[\"Date\"],y, marker='', linestyle='-')\n",
    "plt.plot(res,c='g')\n",
    "\n",
    "fig.autofmt_xdate()\n",
    "\n",
    "\n",
    "plt.title(\"AQI levels of Adilabad for each month between 2016 and 2022\",c='b')\n",
    "plt.xlabel(\"Years\")\n",
    "plt.ylabel(\"AQI levels\")\n",
    "\n",
    "plt.setp(ax.get_xticklabels(), rotation=60, horizontalalignment='right')\n",
    "for label in (ax.get_xticklabels() + ax.get_yticklabels()):label.set_fontsize(4)\n",
    "plt.show()\n"
   ]
  },
  {
   "cell_type": "code",
   "execution_count": null,
   "id": "9100b5f7",
   "metadata": {},
   "outputs": [],
   "source": []
  },
  {
   "cell_type": "code",
   "execution_count": null,
   "id": "94a1b32d",
   "metadata": {},
   "outputs": [],
   "source": []
  }
 ],
 "metadata": {
  "kernelspec": {
   "display_name": "Python 3 (ipykernel)",
   "language": "python",
   "name": "python3"
  },
  "language_info": {
   "codemirror_mode": {
    "name": "ipython",
    "version": 3
   },
   "file_extension": ".py",
   "mimetype": "text/x-python",
   "name": "python",
   "nbconvert_exporter": "python",
   "pygments_lexer": "ipython3",
   "version": "3.9.12"
  }
 },
 "nbformat": 4,
 "nbformat_minor": 5
}
