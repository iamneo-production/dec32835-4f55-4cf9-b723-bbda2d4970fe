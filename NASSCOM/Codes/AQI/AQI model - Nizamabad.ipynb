{
 "cells": [
  {
   "cell_type": "code",
   "execution_count": 164,
   "id": "4eea3dc1",
   "metadata": {},
   "outputs": [],
   "source": [
    "import numpy as np\n",
    "import pandas as pd\n",
    "from keras.models import Sequential\n",
    "from keras.layers import Dense\n",
    "from keras.layers import LSTM\n",
    "import matplotlib.pyplot as plt\n",
    "from sklearn.model_selection import train_test_split"
   ]
  },
  {
   "cell_type": "code",
   "execution_count": 165,
   "id": "f2d32561",
   "metadata": {},
   "outputs": [],
   "source": [
    "data16=pd.read_excel(\"AQI 2016 (1).xls\")"
   ]
  },
  {
   "cell_type": "code",
   "execution_count": 166,
   "id": "82755604",
   "metadata": {},
   "outputs": [],
   "source": [
    "data17=pd.read_excel(\"AQI 2017.xlsx\")"
   ]
  },
  {
   "cell_type": "code",
   "execution_count": 167,
   "id": "10f1db35",
   "metadata": {},
   "outputs": [],
   "source": [
    "data18=pd.read_excel(\"2018_AQI.xlsx\")"
   ]
  },
  {
   "cell_type": "code",
   "execution_count": 168,
   "id": "d92b2fb5",
   "metadata": {},
   "outputs": [],
   "source": [
    "data19=pd.read_excel(\"2019_AQI.xlsx\")"
   ]
  },
  {
   "cell_type": "code",
   "execution_count": 169,
   "id": "eb0ccdf6",
   "metadata": {},
   "outputs": [],
   "source": [
    "data20=pd.read_excel(\"2020_AQI.xlsx\")"
   ]
  },
  {
   "cell_type": "code",
   "execution_count": 170,
   "id": "0d5925b0",
   "metadata": {},
   "outputs": [],
   "source": [
    "data21=pd.read_excel(\"2021_AQI.xlsx\")"
   ]
  },
  {
   "cell_type": "code",
   "execution_count": 171,
   "id": "1f3278ea",
   "metadata": {},
   "outputs": [],
   "source": [
    "data22=pd.read_excel(\"2022_AQI.xlsx\")"
   ]
  },
  {
   "cell_type": "code",
   "execution_count": 172,
   "id": "bb32692f",
   "metadata": {},
   "outputs": [
    {
     "data": {
      "text/html": [
       "<div>\n",
       "<style scoped>\n",
       "    .dataframe tbody tr th:only-of-type {\n",
       "        vertical-align: middle;\n",
       "    }\n",
       "\n",
       "    .dataframe tbody tr th {\n",
       "        vertical-align: top;\n",
       "    }\n",
       "\n",
       "    .dataframe thead th {\n",
       "        text-align: right;\n",
       "    }\n",
       "</style>\n",
       "<table border=\"1\" class=\"dataframe\">\n",
       "  <thead>\n",
       "    <tr style=\"text-align: right;\">\n",
       "      <th></th>\n",
       "      <th>Location</th>\n",
       "      <th>2022-01-01 00:00:00</th>\n",
       "      <th>2022-02-01 00:00:00</th>\n",
       "      <th>2022-03-01 00:00:00</th>\n",
       "      <th>2022-04-01 00:00:00</th>\n",
       "      <th>2022-05-01 00:00:00</th>\n",
       "      <th>2022-06-01 00:00:00</th>\n",
       "      <th>2022-07-01 00:00:00</th>\n",
       "      <th>2022-08-01 00:00:00</th>\n",
       "      <th>2022-09-01 00:00:00</th>\n",
       "      <th>2022-10-01 00:00:00</th>\n",
       "      <th>2022-11-01 00:00:00</th>\n",
       "      <th>2022-12-01 00:00:00</th>\n",
       "    </tr>\n",
       "  </thead>\n",
       "  <tbody>\n",
       "    <tr>\n",
       "      <th>0</th>\n",
       "      <td>Nizamabad</td>\n",
       "      <td>56</td>\n",
       "      <td>59.000000</td>\n",
       "      <td>64.000000</td>\n",
       "      <td>58.000000</td>\n",
       "      <td>56.222222</td>\n",
       "      <td>54</td>\n",
       "      <td>46.000000</td>\n",
       "      <td>53</td>\n",
       "      <td>54</td>\n",
       "      <td>63</td>\n",
       "      <td>56</td>\n",
       "      <td>59</td>\n",
       "    </tr>\n",
       "    <tr>\n",
       "      <th>1</th>\n",
       "      <td>Adilabad</td>\n",
       "      <td>54</td>\n",
       "      <td>55.000000</td>\n",
       "      <td>56.000000</td>\n",
       "      <td>65.000000</td>\n",
       "      <td>60.148148</td>\n",
       "      <td>58</td>\n",
       "      <td>48.000000</td>\n",
       "      <td>56</td>\n",
       "      <td>56</td>\n",
       "      <td>65</td>\n",
       "      <td>58</td>\n",
       "      <td>62</td>\n",
       "    </tr>\n",
       "    <tr>\n",
       "      <th>2</th>\n",
       "      <td>Kuda, warangal</td>\n",
       "      <td>58</td>\n",
       "      <td>64.000000</td>\n",
       "      <td>49.105826</td>\n",
       "      <td>66.173930</td>\n",
       "      <td>53.704530</td>\n",
       "      <td>72</td>\n",
       "      <td>40.428571</td>\n",
       "      <td>43</td>\n",
       "      <td>41</td>\n",
       "      <td>64</td>\n",
       "      <td>49</td>\n",
       "      <td>116</td>\n",
       "    </tr>\n",
       "    <tr>\n",
       "      <th>3</th>\n",
       "      <td>Mee-Seva, Warangal</td>\n",
       "      <td>73</td>\n",
       "      <td>72.514053</td>\n",
       "      <td>76.057747</td>\n",
       "      <td>60.080031</td>\n",
       "      <td>77.094650</td>\n",
       "      <td>85</td>\n",
       "      <td>47.268637</td>\n",
       "      <td>56</td>\n",
       "      <td>48</td>\n",
       "      <td>64</td>\n",
       "      <td>94</td>\n",
       "      <td>94</td>\n",
       "    </tr>\n",
       "    <tr>\n",
       "      <th>4</th>\n",
       "      <td>Karimnagar</td>\n",
       "      <td>82</td>\n",
       "      <td>90.333333</td>\n",
       "      <td>95.666667</td>\n",
       "      <td>69.926215</td>\n",
       "      <td>76.241282</td>\n",
       "      <td>89</td>\n",
       "      <td>69.197791</td>\n",
       "      <td>55</td>\n",
       "      <td>58</td>\n",
       "      <td>63</td>\n",
       "      <td>101</td>\n",
       "      <td>126</td>\n",
       "    </tr>\n",
       "    <tr>\n",
       "      <th>5</th>\n",
       "      <td>Khammam</td>\n",
       "      <td>80</td>\n",
       "      <td>78.079300</td>\n",
       "      <td>76.518519</td>\n",
       "      <td>79.365731</td>\n",
       "      <td>76.611111</td>\n",
       "      <td>81</td>\n",
       "      <td>72.500000</td>\n",
       "      <td>58</td>\n",
       "      <td>42</td>\n",
       "      <td>57</td>\n",
       "      <td>78</td>\n",
       "      <td>115</td>\n",
       "    </tr>\n",
       "  </tbody>\n",
       "</table>\n",
       "</div>"
      ],
      "text/plain": [
       "             Location  2022-01-01 00:00:00  2022-02-01 00:00:00  \\\n",
       "0           Nizamabad                   56            59.000000   \n",
       "1            Adilabad                   54            55.000000   \n",
       "2      Kuda, warangal                   58            64.000000   \n",
       "3  Mee-Seva, Warangal                   73            72.514053   \n",
       "4          Karimnagar                   82            90.333333   \n",
       "5             Khammam                   80            78.079300   \n",
       "\n",
       "   2022-03-01 00:00:00  2022-04-01 00:00:00  2022-05-01 00:00:00  \\\n",
       "0            64.000000            58.000000            56.222222   \n",
       "1            56.000000            65.000000            60.148148   \n",
       "2            49.105826            66.173930            53.704530   \n",
       "3            76.057747            60.080031            77.094650   \n",
       "4            95.666667            69.926215            76.241282   \n",
       "5            76.518519            79.365731            76.611111   \n",
       "\n",
       "   2022-06-01 00:00:00  2022-07-01 00:00:00  2022-08-01 00:00:00  \\\n",
       "0                   54            46.000000                   53   \n",
       "1                   58            48.000000                   56   \n",
       "2                   72            40.428571                   43   \n",
       "3                   85            47.268637                   56   \n",
       "4                   89            69.197791                   55   \n",
       "5                   81            72.500000                   58   \n",
       "\n",
       "   2022-09-01 00:00:00  2022-10-01 00:00:00  2022-11-01 00:00:00  \\\n",
       "0                   54                   63                   56   \n",
       "1                   56                   65                   58   \n",
       "2                   41                   64                   49   \n",
       "3                   48                   64                   94   \n",
       "4                   58                   63                  101   \n",
       "5                   42                   57                   78   \n",
       "\n",
       "   2022-12-01 00:00:00  \n",
       "0                   59  \n",
       "1                   62  \n",
       "2                  116  \n",
       "3                   94  \n",
       "4                  126  \n",
       "5                  115  "
      ]
     },
     "execution_count": 172,
     "metadata": {},
     "output_type": "execute_result"
    }
   ],
   "source": [
    "data22"
   ]
  },
  {
   "cell_type": "markdown",
   "id": "c7fe681f",
   "metadata": {},
   "source": [
    "# Dataset of Nizamabad"
   ]
  },
  {
   "cell_type": "code",
   "execution_count": 173,
   "id": "202940e6",
   "metadata": {},
   "outputs": [
    {
     "data": {
      "text/plain": [
       "[62.333333333333336,\n",
       " 63.666666666666664,\n",
       " 66.33333333333333,\n",
       " 68.33333333333333,\n",
       " 68.66666666666667,\n",
       " 38.0,\n",
       " 56.77777777777778,\n",
       " 58.22222222222222,\n",
       " 56.44444444444444,\n",
       " 64.22222222222223,\n",
       " 60.111111111111114,\n",
       " 62,\n",
       " 61.333333333333336,\n",
       " 61.55555555555556,\n",
       " 63.22222222222222,\n",
       " 67.37037037037038,\n",
       " 68.40740740740742,\n",
       " 62.55555555555556,\n",
       " 57.0,\n",
       " 59.55555555555556,\n",
       " 59.44444444444444,\n",
       " 61.44444444444444,\n",
       " 61.0,\n",
       " 58.888888888888886,\n",
       " 60.6666666666667,\n",
       " 60.5555555555556,\n",
       " 66.1111111111111,\n",
       " 69.7777777777778,\n",
       " 54.0,\n",
       " 64.1851851851852,\n",
       " 58.5555555555556,\n",
       " 60.0,\n",
       " 64.2222222222222,\n",
       " 48.1111111111111,\n",
       " 59.8148148148148,\n",
       " 62,\n",
       " 64.3703703703704,\n",
       " 60.8888888888889,\n",
       " 61.1481481481482,\n",
       " 62.0,\n",
       " 64.4814814814815,\n",
       " 68.8888888888889,\n",
       " 72.0,\n",
       " 70.5555555555556,\n",
       " 61.1666666666667,\n",
       " 69.3333333333333,\n",
       " 61.7777777777778,\n",
       " 66.4444444444444,\n",
       " 64.0,\n",
       " 63.5555555555556,\n",
       " 66.4444444444444,\n",
       " 38.3333333333333,\n",
       " 50,\n",
       " 52.0,\n",
       " 63,\n",
       " 60.0,\n",
       " 62,\n",
       " 62,\n",
       " 62.5555555555556,\n",
       " 81.0,\n",
       " 68.5925925925926,\n",
       " 68,\n",
       " 66,\n",
       " 69,\n",
       " 41,\n",
       " 57,\n",
       " 54,\n",
       " 45,\n",
       " 43.0,\n",
       " 59,\n",
       " 66,\n",
       " 56.7407407407408,\n",
       " 56,\n",
       " 59.0,\n",
       " 64.0,\n",
       " 58.0,\n",
       " 56.2222222222222,\n",
       " 54,\n",
       " 46.0,\n",
       " 53,\n",
       " 54,\n",
       " 63,\n",
       " 56,\n",
       " 59]"
      ]
     },
     "execution_count": 173,
     "metadata": {},
     "output_type": "execute_result"
    }
   ],
   "source": [
    "Nizamabad_data=list(data16.T[0][1:-6])+list(data17.T[0][1:-1])+list(data18.T[0][1:])+list(data19.T[0][1:])+list(data20.T[0][1:])+list(data21.T[0][1:])+list(data22.T[0][1:])\n",
    "\n",
    "dt=Nizamabad_data\n",
    "\n",
    "dt"
   ]
  },
  {
   "cell_type": "code",
   "execution_count": 174,
   "id": "6188f6a2",
   "metadata": {},
   "outputs": [
    {
     "data": {
      "text/plain": [
       "['1-1-2016',\n",
       " '1-2-2016',\n",
       " '1-3-2016',\n",
       " '1-4-2016',\n",
       " '1-5-2016',\n",
       " '1-6-2016',\n",
       " '1-7-2016',\n",
       " '1-8-2016',\n",
       " '1-9-2016',\n",
       " '1-10-2016',\n",
       " '1-11-2016',\n",
       " '1-12-2016',\n",
       " '1-1-2017',\n",
       " '1-2-2017',\n",
       " '1-3-2017',\n",
       " '1-4-2017',\n",
       " '1-5-2017',\n",
       " '1-6-2017',\n",
       " '1-7-2017',\n",
       " '1-8-2017',\n",
       " '1-9-2017',\n",
       " '1-10-2017',\n",
       " '1-11-2017',\n",
       " '1-12-2017',\n",
       " '1-1-2018',\n",
       " '1-2-2018',\n",
       " '1-3-2018',\n",
       " '1-4-2018',\n",
       " '1-5-2018',\n",
       " '1-6-2018',\n",
       " '1-7-2018',\n",
       " '1-8-2018',\n",
       " '1-9-2018',\n",
       " '1-10-2018',\n",
       " '1-11-2018',\n",
       " '1-12-2018',\n",
       " '1-1-2019',\n",
       " '1-2-2019',\n",
       " '1-3-2019',\n",
       " '1-4-2019',\n",
       " '1-5-2019',\n",
       " '1-6-2019',\n",
       " '1-7-2019',\n",
       " '1-8-2019',\n",
       " '1-9-2019',\n",
       " '1-10-2019',\n",
       " '1-11-2019',\n",
       " '1-12-2019',\n",
       " '1-1-2020',\n",
       " '1-2-2020',\n",
       " '1-3-2020',\n",
       " '1-4-2020',\n",
       " '1-5-2020',\n",
       " '1-6-2020',\n",
       " '1-7-2020',\n",
       " '1-8-2020',\n",
       " '1-9-2020',\n",
       " '1-10-2020',\n",
       " '1-11-2020',\n",
       " '1-12-2020',\n",
       " '1-1-2021',\n",
       " '1-2-2021',\n",
       " '1-3-2021',\n",
       " '1-4-2021',\n",
       " '1-5-2021',\n",
       " '1-6-2021',\n",
       " '1-7-2021',\n",
       " '1-8-2021',\n",
       " '1-9-2021',\n",
       " '1-10-2021',\n",
       " '1-11-2021',\n",
       " '1-12-2021',\n",
       " '1-1-2022',\n",
       " '1-2-2022',\n",
       " '1-3-2022',\n",
       " '1-4-2022',\n",
       " '1-5-2022',\n",
       " '1-6-2022',\n",
       " '1-7-2022',\n",
       " '1-8-2022',\n",
       " '1-9-2022',\n",
       " '1-10-2022',\n",
       " '1-11-2022',\n",
       " '1-12-2022']"
      ]
     },
     "execution_count": 174,
     "metadata": {},
     "output_type": "execute_result"
    }
   ],
   "source": [
    "L=['1-1-2016','1-2-2016','1-3-2016','1-4-2016','1-5-2016','1-6-2016','1-7-2016','1-8-2016','1-9-2016','1-10-2016','1-11-2016','1-12-2016','1-1-2017','1-2-2017','1-3-2017','1-4-2017','1-5-2017','1-6-2017','1-7-2017','1-8-2017','1-9-2017','1-10-2017','1-11-2017','1-12-2017']\n",
    "L=L+['1-1-2018','1-2-2018','1-3-2018','1-4-2018','1-5-2018','1-6-2018','1-7-2018','1-8-2018','1-9-2018','1-10-2018','1-11-2018','1-12-2018']\n",
    "L=L+['1-1-2019','1-2-2019','1-3-2019','1-4-2019','1-5-2019','1-6-2019','1-7-2019','1-8-2019','1-9-2019','1-10-2019','1-11-2019','1-12-2019']\n",
    "L=L+['1-1-2020','1-2-2020','1-3-2020','1-4-2020','1-5-2020','1-6-2020','1-7-2020','1-8-2020','1-9-2020','1-10-2020','1-11-2020','1-12-2020']\n",
    "L=L+['1-1-2021','1-2-2021','1-3-2021','1-4-2021','1-5-2021','1-6-2021','1-7-2021','1-8-2021','1-9-2021','1-10-2021','1-11-2021','1-12-2021']\n",
    "L=L+['1-1-2022','1-2-2022','1-3-2022','1-4-2022','1-5-2022','1-6-2022','1-7-2022','1-8-2022','1-9-2022','1-10-2022','1-11-2022','1-12-2022']\n",
    "L"
   ]
  },
  {
   "cell_type": "code",
   "execution_count": 175,
   "id": "75446180",
   "metadata": {},
   "outputs": [
    {
     "data": {
      "text/html": [
       "<div>\n",
       "<style scoped>\n",
       "    .dataframe tbody tr th:only-of-type {\n",
       "        vertical-align: middle;\n",
       "    }\n",
       "\n",
       "    .dataframe tbody tr th {\n",
       "        vertical-align: top;\n",
       "    }\n",
       "\n",
       "    .dataframe thead th {\n",
       "        text-align: right;\n",
       "    }\n",
       "</style>\n",
       "<table border=\"1\" class=\"dataframe\">\n",
       "  <thead>\n",
       "    <tr style=\"text-align: right;\">\n",
       "      <th></th>\n",
       "      <th>Date</th>\n",
       "      <th>AQI</th>\n",
       "    </tr>\n",
       "  </thead>\n",
       "  <tbody>\n",
       "    <tr>\n",
       "      <th>0</th>\n",
       "      <td>1-1-2016</td>\n",
       "      <td>62.333333</td>\n",
       "    </tr>\n",
       "    <tr>\n",
       "      <th>1</th>\n",
       "      <td>1-2-2016</td>\n",
       "      <td>63.666667</td>\n",
       "    </tr>\n",
       "    <tr>\n",
       "      <th>2</th>\n",
       "      <td>1-3-2016</td>\n",
       "      <td>66.333333</td>\n",
       "    </tr>\n",
       "    <tr>\n",
       "      <th>3</th>\n",
       "      <td>1-4-2016</td>\n",
       "      <td>68.333333</td>\n",
       "    </tr>\n",
       "    <tr>\n",
       "      <th>4</th>\n",
       "      <td>1-5-2016</td>\n",
       "      <td>68.666667</td>\n",
       "    </tr>\n",
       "    <tr>\n",
       "      <th>...</th>\n",
       "      <td>...</td>\n",
       "      <td>...</td>\n",
       "    </tr>\n",
       "    <tr>\n",
       "      <th>79</th>\n",
       "      <td>1-8-2022</td>\n",
       "      <td>53.000000</td>\n",
       "    </tr>\n",
       "    <tr>\n",
       "      <th>80</th>\n",
       "      <td>1-9-2022</td>\n",
       "      <td>54.000000</td>\n",
       "    </tr>\n",
       "    <tr>\n",
       "      <th>81</th>\n",
       "      <td>1-10-2022</td>\n",
       "      <td>63.000000</td>\n",
       "    </tr>\n",
       "    <tr>\n",
       "      <th>82</th>\n",
       "      <td>1-11-2022</td>\n",
       "      <td>56.000000</td>\n",
       "    </tr>\n",
       "    <tr>\n",
       "      <th>83</th>\n",
       "      <td>1-12-2022</td>\n",
       "      <td>59.000000</td>\n",
       "    </tr>\n",
       "  </tbody>\n",
       "</table>\n",
       "<p>84 rows × 2 columns</p>\n",
       "</div>"
      ],
      "text/plain": [
       "         Date        AQI\n",
       "0    1-1-2016  62.333333\n",
       "1    1-2-2016  63.666667\n",
       "2    1-3-2016  66.333333\n",
       "3    1-4-2016  68.333333\n",
       "4    1-5-2016  68.666667\n",
       "..        ...        ...\n",
       "79   1-8-2022  53.000000\n",
       "80   1-9-2022  54.000000\n",
       "81  1-10-2022  63.000000\n",
       "82  1-11-2022  56.000000\n",
       "83  1-12-2022  59.000000\n",
       "\n",
       "[84 rows x 2 columns]"
      ]
     },
     "execution_count": 175,
     "metadata": {},
     "output_type": "execute_result"
    }
   ],
   "source": [
    "df=pd.DataFrame()\n",
    "df.reset_index()\n",
    "df[\"Date\"]=L\n",
    "df[\"AQI\"]=dt\n",
    "df"
   ]
  },
  {
   "cell_type": "code",
   "execution_count": 176,
   "id": "15709643",
   "metadata": {},
   "outputs": [
    {
     "name": "stdout",
     "output_type": "stream",
     "text": [
      "       Date        AQI\n",
      "0   01-2016  62.333333\n",
      "1   02-2016  63.666667\n",
      "2   03-2016  66.333333\n",
      "3   04-2016  68.333333\n",
      "4   05-2016  68.666667\n",
      "..      ...        ...\n",
      "79  08-2022  53.000000\n",
      "80  09-2022  54.000000\n",
      "81  10-2022  63.000000\n",
      "82  11-2022  56.000000\n",
      "83  12-2022  59.000000\n",
      "\n",
      "[84 rows x 2 columns]\n"
     ]
    }
   ],
   "source": [
    "df1=df[[\"Date\",\"AQI\"]]\n",
    "df1['Date'] = pd.to_datetime(df1['Date'], format='%m-%d-%Y').dt.strftime('%d-%Y')\n",
    "\n",
    "df[\"Date\"]=pd.to_datetime(df[\"Date\"])\n",
    "print(df1)\n",
    "x=df[\"Date\"]\n",
    "y=df[\"AQI\"]\n",
    "#plt.plot(x,y)\n",
    "df=df.set_index(\"Date\")"
   ]
  },
  {
   "cell_type": "code",
   "execution_count": 177,
   "id": "08f7d2da",
   "metadata": {},
   "outputs": [
    {
     "data": {
      "text/html": [
       "<div>\n",
       "<style scoped>\n",
       "    .dataframe tbody tr th:only-of-type {\n",
       "        vertical-align: middle;\n",
       "    }\n",
       "\n",
       "    .dataframe tbody tr th {\n",
       "        vertical-align: top;\n",
       "    }\n",
       "\n",
       "    .dataframe thead th {\n",
       "        text-align: right;\n",
       "    }\n",
       "</style>\n",
       "<table border=\"1\" class=\"dataframe\">\n",
       "  <thead>\n",
       "    <tr style=\"text-align: right;\">\n",
       "      <th></th>\n",
       "      <th>Date</th>\n",
       "      <th>AQI</th>\n",
       "    </tr>\n",
       "  </thead>\n",
       "  <tbody>\n",
       "    <tr>\n",
       "      <th>0</th>\n",
       "      <td>01-2016</td>\n",
       "      <td>62.333333</td>\n",
       "    </tr>\n",
       "    <tr>\n",
       "      <th>1</th>\n",
       "      <td>02-2016</td>\n",
       "      <td>63.666667</td>\n",
       "    </tr>\n",
       "    <tr>\n",
       "      <th>2</th>\n",
       "      <td>03-2016</td>\n",
       "      <td>66.333333</td>\n",
       "    </tr>\n",
       "    <tr>\n",
       "      <th>3</th>\n",
       "      <td>04-2016</td>\n",
       "      <td>68.333333</td>\n",
       "    </tr>\n",
       "    <tr>\n",
       "      <th>4</th>\n",
       "      <td>05-2016</td>\n",
       "      <td>68.666667</td>\n",
       "    </tr>\n",
       "    <tr>\n",
       "      <th>...</th>\n",
       "      <td>...</td>\n",
       "      <td>...</td>\n",
       "    </tr>\n",
       "    <tr>\n",
       "      <th>79</th>\n",
       "      <td>08-2022</td>\n",
       "      <td>53.000000</td>\n",
       "    </tr>\n",
       "    <tr>\n",
       "      <th>80</th>\n",
       "      <td>09-2022</td>\n",
       "      <td>54.000000</td>\n",
       "    </tr>\n",
       "    <tr>\n",
       "      <th>81</th>\n",
       "      <td>10-2022</td>\n",
       "      <td>63.000000</td>\n",
       "    </tr>\n",
       "    <tr>\n",
       "      <th>82</th>\n",
       "      <td>11-2022</td>\n",
       "      <td>56.000000</td>\n",
       "    </tr>\n",
       "    <tr>\n",
       "      <th>83</th>\n",
       "      <td>12-2022</td>\n",
       "      <td>59.000000</td>\n",
       "    </tr>\n",
       "  </tbody>\n",
       "</table>\n",
       "<p>84 rows × 2 columns</p>\n",
       "</div>"
      ],
      "text/plain": [
       "       Date        AQI\n",
       "0   01-2016  62.333333\n",
       "1   02-2016  63.666667\n",
       "2   03-2016  66.333333\n",
       "3   04-2016  68.333333\n",
       "4   05-2016  68.666667\n",
       "..      ...        ...\n",
       "79  08-2022  53.000000\n",
       "80  09-2022  54.000000\n",
       "81  10-2022  63.000000\n",
       "82  11-2022  56.000000\n",
       "83  12-2022  59.000000\n",
       "\n",
       "[84 rows x 2 columns]"
      ]
     },
     "execution_count": 177,
     "metadata": {},
     "output_type": "execute_result"
    }
   ],
   "source": [
    "df1"
   ]
  },
  {
   "cell_type": "code",
   "execution_count": 178,
   "id": "f31f0ca5",
   "metadata": {},
   "outputs": [
    {
     "data": {
      "text/plain": [
       "0     01-2016\n",
       "1     02-2016\n",
       "2     03-2016\n",
       "3     04-2016\n",
       "4     05-2016\n",
       "       ...   \n",
       "79    08-2022\n",
       "80    09-2022\n",
       "81    10-2022\n",
       "82    11-2022\n",
       "83    12-2022\n",
       "Name: Date, Length: 84, dtype: object"
      ]
     },
     "execution_count": 178,
     "metadata": {},
     "output_type": "execute_result"
    }
   ],
   "source": [
    "df1[\"Date\"]"
   ]
  },
  {
   "cell_type": "markdown",
   "id": "06a7d26a",
   "metadata": {},
   "source": [
    "# AQI levels of Nizamabad between 2016 and 2022"
   ]
  },
  {
   "cell_type": "code",
   "execution_count": 179,
   "id": "ea7b6815",
   "metadata": {
    "scrolled": true
   },
   "outputs": [
    {
     "data": {
      "image/png": "[encoded data removed]",
      "text/plain": [
       "<Figure size 640x480 with 1 Axes>"
      ]
     },
     "metadata": {},
     "output_type": "display_data"
    }
   ],
   "source": [
    "fig, ax = plt.subplots()\n",
    "ax.plot_date(df1[\"Date\"],df1[\"AQI\"], marker='', linestyle='-')\n",
    "\n",
    "fig.autofmt_xdate()\n",
    "\n",
    "\n",
    "plt.title(\"AQI levels of Nizamabad for each month between 2016 and 2022\")\n",
    "plt.xlabel(\"Years\")\n",
    "plt.ylabel(\"AQI levels\")\n",
    "\n",
    "plt.setp(ax.get_xticklabels(), rotation=60, horizontalalignment='right')\n",
    "for label in (ax.get_xticklabels() + ax.get_yticklabels()):label.set_fontsize(5)\n",
    "plt.show()"
   ]
  },
  {
   "cell_type": "code",
   "execution_count": 180,
   "id": "44fd4b3b",
   "metadata": {},
   "outputs": [],
   "source": [
    "from sklearn.model_selection import train_test_split\n",
    "x_train,x_test,y_train,y_test = train_test_split(x,y,test_size=0.25,\n",
    "                                                random_state=666)"
   ]
  },
  {
   "cell_type": "code",
   "execution_count": 181,
   "id": "005ca2ce",
   "metadata": {},
   "outputs": [
    {
     "name": "stdout",
     "output_type": "stream",
     "text": [
      "The p-value of the dataset is 2.0236337723928965e-08\n"
     ]
    }
   ],
   "source": [
    "from statsmodels.tsa.stattools import adfuller\n",
    "dfa=adfuller(df)\n",
    "print(\"The p-value of the dataset is\",dfa[1])"
   ]
  },
  {
   "cell_type": "code",
   "execution_count": 182,
   "id": "26c1c0cb",
   "metadata": {},
   "outputs": [],
   "source": [
    "#plt.plot(df)"
   ]
  },
  {
   "cell_type": "code",
   "execution_count": 183,
   "id": "24610807",
   "metadata": {},
   "outputs": [
    {
     "name": "stdout",
     "output_type": "stream",
     "text": [
      "Performing stepwise search to minimize aic\n",
      " ARIMA(2,0,2)(0,0,0)[0] intercept   : AIC=574.967, Time=0.33 sec\n",
      " ARIMA(0,0,0)(0,0,0)[0] intercept   : AIC=577.377, Time=0.02 sec\n",
      " ARIMA(1,0,0)(0,0,0)[0] intercept   : AIC=569.883, Time=0.06 sec\n",
      " ARIMA(0,0,1)(0,0,0)[0] intercept   : AIC=571.995, Time=0.06 sec\n",
      " ARIMA(0,0,0)(0,0,0)[0]             : AIC=930.607, Time=0.01 sec\n",
      " ARIMA(2,0,0)(0,0,0)[0] intercept   : AIC=570.968, Time=0.07 sec\n",
      " ARIMA(1,0,1)(0,0,0)[0] intercept   : AIC=571.079, Time=0.29 sec\n",
      " ARIMA(2,0,1)(0,0,0)[0] intercept   : AIC=572.966, Time=0.14 sec\n",
      " ARIMA(1,0,0)(0,0,0)[0]             : AIC=inf, Time=0.02 sec\n",
      "\n",
      "Best model:  ARIMA(1,0,0)(0,0,0)[0] intercept\n",
      "Total fit time: 1.007 seconds\n"
     ]
    },
    {
     "data": {
      "text/html": [
       "<table class=\"simpletable\">\n",
       "<caption>SARIMAX Results</caption>\n",
       "<tr>\n",
       "  <th>Dep. Variable:</th>           <td>y</td>        <th>  No. Observations:  </th>    <td>84</td>   \n",
       "</tr>\n",
       "<tr>\n",
       "  <th>Model:</th>           <td>SARIMAX(1, 0, 0)</td> <th>  Log Likelihood     </th> <td>-281.942</td>\n",
       "</tr>\n",
       "<tr>\n",
       "  <th>Date:</th>            <td>Sat, 04 Mar 2023</td> <th>  AIC                </th>  <td>569.883</td>\n",
       "</tr>\n",
       "<tr>\n",
       "  <th>Time:</th>                <td>18:41:55</td>     <th>  BIC                </th>  <td>577.175</td>\n",
       "</tr>\n",
       "<tr>\n",
       "  <th>Sample:</th>                  <td>0</td>        <th>  HQIC               </th>  <td>572.815</td>\n",
       "</tr>\n",
       "<tr>\n",
       "  <th></th>                       <td> - 84</td>      <th>                     </th>     <td> </td>   \n",
       "</tr>\n",
       "<tr>\n",
       "  <th>Covariance Type:</th>        <td>opg</td>       <th>                     </th>     <td> </td>   \n",
       "</tr>\n",
       "</table>\n",
       "<table class=\"simpletable\">\n",
       "<tr>\n",
       "      <td></td>         <th>coef</th>     <th>std err</th>      <th>z</th>      <th>P>|z|</th>  <th>[0.025</th>    <th>0.975]</th>  \n",
       "</tr>\n",
       "<tr>\n",
       "  <th>intercept</th> <td>   40.5250</td> <td>    7.339</td> <td>    5.522</td> <td> 0.000</td> <td>   26.141</td> <td>   54.909</td>\n",
       "</tr>\n",
       "<tr>\n",
       "  <th>ar.L1</th>     <td>    0.3291</td> <td>    0.118</td> <td>    2.793</td> <td> 0.005</td> <td>    0.098</td> <td>    0.560</td>\n",
       "</tr>\n",
       "<tr>\n",
       "  <th>sigma2</th>    <td>   48.1164</td> <td>    5.695</td> <td>    8.448</td> <td> 0.000</td> <td>   36.953</td> <td>   59.279</td>\n",
       "</tr>\n",
       "</table>\n",
       "<table class=\"simpletable\">\n",
       "<tr>\n",
       "  <th>Ljung-Box (L1) (Q):</th>     <td>0.11</td> <th>  Jarque-Bera (JB):  </th> <td>72.23</td>\n",
       "</tr>\n",
       "<tr>\n",
       "  <th>Prob(Q):</th>                <td>0.74</td> <th>  Prob(JB):          </th> <td>0.00</td> \n",
       "</tr>\n",
       "<tr>\n",
       "  <th>Heteroskedasticity (H):</th> <td>1.77</td> <th>  Skew:              </th> <td>-1.35</td>\n",
       "</tr>\n",
       "<tr>\n",
       "  <th>Prob(H) (two-sided):</th>    <td>0.14</td> <th>  Kurtosis:          </th> <td>6.65</td> \n",
       "</tr>\n",
       "</table><br/><br/>Warnings:<br/>[1] Covariance matrix calculated using the outer product of gradients (complex-step)."
      ],
      "text/plain": [
       "<class 'statsmodels.iolib.summary.Summary'>\n",
       "\"\"\"\n",
       "                               SARIMAX Results                                \n",
       "==============================================================================\n",
       "Dep. Variable:                      y   No. Observations:                   84\n",
       "Model:               SARIMAX(1, 0, 0)   Log Likelihood                -281.942\n",
       "Date:                Sat, 04 Mar 2023   AIC                            569.883\n",
       "Time:                        18:41:55   BIC                            577.175\n",
       "Sample:                             0   HQIC                           572.815\n",
       "                                 - 84                                         \n",
       "Covariance Type:                  opg                                         \n",
       "==============================================================================\n",
       "                 coef    std err          z      P>|z|      [0.025      0.975]\n",
       "------------------------------------------------------------------------------\n",
       "intercept     40.5250      7.339      5.522      0.000      26.141      54.909\n",
       "ar.L1          0.3291      0.118      2.793      0.005       0.098       0.560\n",
       "sigma2        48.1164      5.695      8.448      0.000      36.953      59.279\n",
       "===================================================================================\n",
       "Ljung-Box (L1) (Q):                   0.11   Jarque-Bera (JB):                72.23\n",
       "Prob(Q):                              0.74   Prob(JB):                         0.00\n",
       "Heteroskedasticity (H):               1.77   Skew:                            -1.35\n",
       "Prob(H) (two-sided):                  0.14   Kurtosis:                         6.65\n",
       "===================================================================================\n",
       "\n",
       "Warnings:\n",
       "[1] Covariance matrix calculated using the outer product of gradients (complex-step).\n",
       "\"\"\""
      ]
     },
     "execution_count": 183,
     "metadata": {},
     "output_type": "execute_result"
    }
   ],
   "source": [
    "from pmdarima import auto_arima\n",
    "  \n",
    "# Ignore harmless warnings\n",
    "import warnings\n",
    "warnings.filterwarnings(\"ignore\")\n",
    "fit=auto_arima(df[\"AQI\"],trace=True,suppress_warning=True)\n",
    "fit.summary()"
   ]
  },
  {
   "cell_type": "code",
   "execution_count": 184,
   "id": "41b6c1ec",
   "metadata": {},
   "outputs": [
    {
     "data": {
      "text/plain": [
       "'df.sort_index(inplace=True)\\ndf'"
      ]
     },
     "execution_count": 184,
     "metadata": {},
     "output_type": "execute_result"
    }
   ],
   "source": [
    "'''df.sort_index(inplace=True)\n",
    "df'''"
   ]
  },
  {
   "cell_type": "code",
   "execution_count": 185,
   "id": "d9e4da08",
   "metadata": {},
   "outputs": [],
   "source": [
    "train=df.iloc[:-12]\n",
    "test=df.iloc[-12:]"
   ]
  },
  {
   "cell_type": "markdown",
   "id": "5499b2de",
   "metadata": {},
   "source": [
    "# ARIMA model"
   ]
  },
  {
   "cell_type": "code",
   "execution_count": 186,
   "id": "730004ad",
   "metadata": {},
   "outputs": [
    {
     "name": "stdout",
     "output_type": "stream",
     "text": [
      "                  AQI\n",
      "Date                 \n",
      "2016-01-01  62.333333\n",
      "2016-01-02  63.666667\n",
      "2016-01-03  66.333333\n",
      "2016-01-04  68.333333\n",
      "2016-01-05  68.666667\n",
      "...               ...\n",
      "2021-01-08  45.000000\n",
      "2021-01-09  43.000000\n",
      "2021-01-10  59.000000\n",
      "2021-01-11  66.000000\n",
      "2021-01-12  56.740741\n",
      "\n",
      "[72 rows x 1 columns]\n"
     ]
    },
    {
     "data": {
      "text/html": [
       "<table class=\"simpletable\">\n",
       "<caption>SARIMAX Results</caption>\n",
       "<tr>\n",
       "  <th>Dep. Variable:</th>                 <td>AQI</td>              <th>  No. Observations:  </th>    <td>72</td>   \n",
       "</tr>\n",
       "<tr>\n",
       "  <th>Model:</th>           <td>ARIMA(1, 0, 0)x(1, 1, [1], 12)</td> <th>  Log Likelihood     </th> <td>-216.371</td>\n",
       "</tr>\n",
       "<tr>\n",
       "  <th>Date:</th>                   <td>Sat, 04 Mar 2023</td>        <th>  AIC                </th>  <td>440.742</td>\n",
       "</tr>\n",
       "<tr>\n",
       "  <th>Time:</th>                       <td>18:41:56</td>            <th>  BIC                </th>  <td>449.119</td>\n",
       "</tr>\n",
       "<tr>\n",
       "  <th>Sample:</th>                         <td>0</td>               <th>  HQIC               </th>  <td>444.019</td>\n",
       "</tr>\n",
       "<tr>\n",
       "  <th></th>                              <td> - 72</td>             <th>                     </th>     <td> </td>   \n",
       "</tr>\n",
       "<tr>\n",
       "  <th>Covariance Type:</th>               <td>opg</td>              <th>                     </th>     <td> </td>   \n",
       "</tr>\n",
       "</table>\n",
       "<table class=\"simpletable\">\n",
       "<tr>\n",
       "      <td></td>        <th>coef</th>     <th>std err</th>      <th>z</th>      <th>P>|z|</th>  <th>[0.025</th>    <th>0.975]</th>  \n",
       "</tr>\n",
       "<tr>\n",
       "  <th>ar.L1</th>    <td>    0.2169</td> <td>    0.137</td> <td>    1.581</td> <td> 0.114</td> <td>   -0.052</td> <td>    0.486</td>\n",
       "</tr>\n",
       "<tr>\n",
       "  <th>ar.S.L12</th> <td>    0.1506</td> <td>    0.364</td> <td>    0.414</td> <td> 0.679</td> <td>   -0.563</td> <td>    0.864</td>\n",
       "</tr>\n",
       "<tr>\n",
       "  <th>ma.S.L12</th> <td>   -0.9954</td> <td>   25.643</td> <td>   -0.039</td> <td> 0.969</td> <td>  -51.254</td> <td>   49.264</td>\n",
       "</tr>\n",
       "<tr>\n",
       "  <th>sigma2</th>   <td>   58.5045</td> <td> 1483.473</td> <td>    0.039</td> <td> 0.969</td> <td>-2849.050</td> <td> 2966.059</td>\n",
       "</tr>\n",
       "</table>\n",
       "<table class=\"simpletable\">\n",
       "<tr>\n",
       "  <th>Ljung-Box (L1) (Q):</th>     <td>0.04</td> <th>  Jarque-Bera (JB):  </th> <td>10.58</td>\n",
       "</tr>\n",
       "<tr>\n",
       "  <th>Prob(Q):</th>                <td>0.83</td> <th>  Prob(JB):          </th> <td>0.01</td> \n",
       "</tr>\n",
       "<tr>\n",
       "  <th>Heteroskedasticity (H):</th> <td>2.00</td> <th>  Skew:              </th> <td>-0.56</td>\n",
       "</tr>\n",
       "<tr>\n",
       "  <th>Prob(H) (two-sided):</th>    <td>0.13</td> <th>  Kurtosis:          </th> <td>4.72</td> \n",
       "</tr>\n",
       "</table><br/><br/>Warnings:<br/>[1] Covariance matrix calculated using the outer product of gradients (complex-step)."
      ],
      "text/plain": [
       "<class 'statsmodels.iolib.summary.Summary'>\n",
       "\"\"\"\n",
       "                                     SARIMAX Results                                      \n",
       "==========================================================================================\n",
       "Dep. Variable:                                AQI   No. Observations:                   72\n",
       "Model:             ARIMA(1, 0, 0)x(1, 1, [1], 12)   Log Likelihood                -216.371\n",
       "Date:                            Sat, 04 Mar 2023   AIC                            440.742\n",
       "Time:                                    18:41:56   BIC                            449.119\n",
       "Sample:                                         0   HQIC                           444.019\n",
       "                                             - 72                                         \n",
       "Covariance Type:                              opg                                         \n",
       "==============================================================================\n",
       "                 coef    std err          z      P>|z|      [0.025      0.975]\n",
       "------------------------------------------------------------------------------\n",
       "ar.L1          0.2169      0.137      1.581      0.114      -0.052       0.486\n",
       "ar.S.L12       0.1506      0.364      0.414      0.679      -0.563       0.864\n",
       "ma.S.L12      -0.9954     25.643     -0.039      0.969     -51.254      49.264\n",
       "sigma2        58.5045   1483.473      0.039      0.969   -2849.050    2966.059\n",
       "===================================================================================\n",
       "Ljung-Box (L1) (Q):                   0.04   Jarque-Bera (JB):                10.58\n",
       "Prob(Q):                              0.83   Prob(JB):                         0.01\n",
       "Heteroskedasticity (H):               2.00   Skew:                            -0.56\n",
       "Prob(H) (two-sided):                  0.13   Kurtosis:                         4.72\n",
       "===================================================================================\n",
       "\n",
       "Warnings:\n",
       "[1] Covariance matrix calculated using the outer product of gradients (complex-step).\n",
       "\"\"\""
      ]
     },
     "execution_count": 186,
     "metadata": {},
     "output_type": "execute_result"
    }
   ],
   "source": [
    "from statsmodels.tsa.arima.model import ARIMA \n",
    "print(train)\n",
    "model =ARIMA(train,order=(1,0,0),seasonal_order=(1,1,1,12))\n",
    "model_fit =model.fit()\n",
    "model_fit.summary()"
   ]
  },
  {
   "cell_type": "code",
   "execution_count": 187,
   "id": "d9859f01",
   "metadata": {},
   "outputs": [
    {
     "data": {
      "text/plain": [
       "[<matplotlib.lines.Line2D at 0x1b853ac3c40>]"
      ]
     },
     "execution_count": 187,
     "metadata": {},
     "output_type": "execute_result"
    },
    {
     "data": {
      "image/png": "[encoded data removed]",
      "text/plain": [
       "<Figure size 640x480 with 1 Axes>"
      ]
     },
     "metadata": {},
     "output_type": "display_data"
    }
   ],
   "source": [
    "pred_new=model_fit.forecast(12)\n",
    "plt.plot(pred_new)"
   ]
  },
  {
   "cell_type": "code",
   "execution_count": 188,
   "id": "e210e6f3",
   "metadata": {},
   "outputs": [],
   "source": [
    "#res.index"
   ]
  },
  {
   "cell_type": "code",
   "execution_count": 189,
   "id": "5b97cc31",
   "metadata": {},
   "outputs": [],
   "source": [
    "time_list=['1-1-2022','1-2-2022','1-3-2022','1-4-2022','1-5-2022','1-6-2022','1-7-2022','1-8-2022','1-9-2022','1-10-2022','1-11-2022','1-12-2022']\n",
    "res=pd.DataFrame(pred_new)\n",
    "res[\"Date\"]=time_list\n",
    "a=list(res['predicted_mean'])\n",
    "res[\"AQI\"]=a\n",
    "res=res.drop([\"predicted_mean\"],axis=1)\n",
    "res[\"Date\"]=pd.to_datetime(res[\"Date\"])\n",
    "df2=res[[\"Date\",\"AQI\"]]\n",
    "df2['Date'] = pd.to_datetime(df2['Date'], format='%Y-%d-%m').dt.strftime('%d-%Y')\n",
    "res=res.set_index(\"Date\")"
   ]
  },
  {
   "cell_type": "code",
   "execution_count": 190,
   "id": "afe06ba7",
   "metadata": {},
   "outputs": [],
   "source": [
    "final_data =train\n",
    "pred_data=final_data.append(res)"
   ]
  },
  {
   "cell_type": "code",
   "execution_count": 191,
   "id": "b815d2cf",
   "metadata": {},
   "outputs": [],
   "source": [
    "#df2"
   ]
  },
  {
   "cell_type": "code",
   "execution_count": 200,
   "id": "18386b68",
   "metadata": {},
   "outputs": [
    {
     "data": {
      "image/png": "[encoded data removed]",
      "text/plain": [
       "<Figure size 640x480 with 1 Axes>"
      ]
     },
     "metadata": {},
     "output_type": "display_data"
    }
   ],
   "source": [
    "fig, ax = plt.subplots()\n",
    "ax.plot_date(df1[\"Date\"][:-12],df1[\"AQI\"][:-12], marker='', linestyle='-')\n",
    "ax.plot_date(df2[\"Date\"],df2[\"AQI\"] ,marker='', linestyle='-')\n",
    "fig.autofmt_xdate()\n",
    "\n",
    "\n",
    "plt.title(\"Predicted value for 2022 alongside old data\",fontsize = 20,c='b')\n",
    "plt.xlabel(\"Time\",fontsize = 15)\n",
    "plt.ylabel(\"AQI lvl\",fontsize = 15)\n",
    "\n",
    "plt.setp(ax.get_xticklabels(), rotation=60, horizontalalignment='right')\n",
    "for label in (ax.get_xticklabels() + ax.get_yticklabels()):label.set_fontsize(4)\n",
    "plt.show()\n",
    "\n"
   ]
  },
  {
   "cell_type": "markdown",
   "id": "3192b8d1",
   "metadata": {},
   "source": [
    "# Performance of the model"
   ]
  },
  {
   "cell_type": "code",
   "execution_count": 193,
   "id": "6ac5fa3b",
   "metadata": {},
   "outputs": [
    {
     "name": "stdout",
     "output_type": "stream",
     "text": [
      "Average Temperature         :  60.409391534391546\n",
      "Root mean Square value      :  5.363459293900392\n",
      "Mean absolute Error         :  4.292567249303842\n"
     ]
    }
   ],
   "source": [
    "from sklearn.metrics import mean_squared_error\n",
    "from sklearn.metrics import mean_absolute_error\n",
    "from math import sqrt\n",
    "rmse=sqrt(mean_squared_error(pred_new,test[\"AQI\"]))\n",
    "ame=mean_absolute_error(pred_new,test[\"AQI\"])\n",
    "\n",
    "print(\"Average Temperature         : \",df['AQI'].mean())\n",
    "print(\"Root mean Square value      : \",rmse)\n",
    "print(\"Mean absolute Error         : \",ame)"
   ]
  },
  {
   "cell_type": "code",
   "execution_count": null,
   "id": "4199e3c5",
   "metadata": {},
   "outputs": [],
   "source": []
  },
  {
   "cell_type": "markdown",
   "id": "dc786348",
   "metadata": {},
   "source": [
    "# Forcasting for 2023"
   ]
  },
  {
   "cell_type": "code",
   "execution_count": 194,
   "id": "dda5a462",
   "metadata": {},
   "outputs": [
    {
     "data": {
      "text/html": [
       "<table class=\"simpletable\">\n",
       "<caption>SARIMAX Results</caption>\n",
       "<tr>\n",
       "  <th>Dep. Variable:</th>                <td>AQI</td>             <th>  No. Observations:  </th>    <td>84</td>   \n",
       "</tr>\n",
       "<tr>\n",
       "  <th>Model:</th>           <td>ARIMA(1, 0, 2)x(9, 1, 2, 12)</td> <th>  Log Likelihood     </th> <td>-253.325</td>\n",
       "</tr>\n",
       "<tr>\n",
       "  <th>Date:</th>                  <td>Sat, 04 Mar 2023</td>       <th>  AIC                </th>  <td>536.650</td>\n",
       "</tr>\n",
       "<tr>\n",
       "  <th>Time:</th>                      <td>18:43:06</td>           <th>  BIC                </th>  <td>570.800</td>\n",
       "</tr>\n",
       "<tr>\n",
       "  <th>Sample:</th>                        <td>0</td>              <th>  HQIC               </th>  <td>550.245</td>\n",
       "</tr>\n",
       "<tr>\n",
       "  <th></th>                             <td> - 84</td>            <th>                     </th>     <td> </td>   \n",
       "</tr>\n",
       "<tr>\n",
       "  <th>Covariance Type:</th>              <td>opg</td>             <th>                     </th>     <td> </td>   \n",
       "</tr>\n",
       "</table>\n",
       "<table class=\"simpletable\">\n",
       "<tr>\n",
       "      <td></td>         <th>coef</th>     <th>std err</th>      <th>z</th>      <th>P>|z|</th>  <th>[0.025</th>    <th>0.975]</th>  \n",
       "</tr>\n",
       "<tr>\n",
       "  <th>ar.L1</th>     <td>    0.6346</td> <td>    0.843</td> <td>    0.753</td> <td> 0.451</td> <td>   -1.017</td> <td>    2.286</td>\n",
       "</tr>\n",
       "<tr>\n",
       "  <th>ma.L1</th>     <td>   -0.4697</td> <td>    0.798</td> <td>   -0.588</td> <td> 0.556</td> <td>   -2.034</td> <td>    1.095</td>\n",
       "</tr>\n",
       "<tr>\n",
       "  <th>ma.L2</th>     <td>    0.0778</td> <td>    0.369</td> <td>    0.211</td> <td> 0.833</td> <td>   -0.645</td> <td>    0.801</td>\n",
       "</tr>\n",
       "<tr>\n",
       "  <th>ar.S.L12</th>  <td>   -0.1015</td> <td>  320.282</td> <td>   -0.000</td> <td> 1.000</td> <td> -627.842</td> <td>  627.639</td>\n",
       "</tr>\n",
       "<tr>\n",
       "  <th>ar.S.L24</th>  <td>    0.3496</td> <td>  704.051</td> <td>    0.000</td> <td> 1.000</td> <td>-1379.565</td> <td> 1380.264</td>\n",
       "</tr>\n",
       "<tr>\n",
       "  <th>ar.S.L36</th>  <td>    0.0992</td> <td>  238.987</td> <td>    0.000</td> <td> 1.000</td> <td> -468.306</td> <td>  468.505</td>\n",
       "</tr>\n",
       "<tr>\n",
       "  <th>ar.S.L48</th>  <td>    0.1088</td> <td>  241.465</td> <td>    0.000</td> <td> 1.000</td> <td> -473.153</td> <td>  473.371</td>\n",
       "</tr>\n",
       "<tr>\n",
       "  <th>ar.S.L60</th>  <td>    0.1731</td> <td>  248.703</td> <td>    0.001</td> <td> 0.999</td> <td> -487.276</td> <td>  487.622</td>\n",
       "</tr>\n",
       "<tr>\n",
       "  <th>ar.S.L72</th>  <td>    0.7383</td> <td>  278.005</td> <td>    0.003</td> <td> 0.998</td> <td> -544.142</td> <td>  545.618</td>\n",
       "</tr>\n",
       "<tr>\n",
       "  <th>ar.S.L84</th>  <td>   -0.4363</td> <td>  396.235</td> <td>   -0.001</td> <td> 0.999</td> <td> -777.043</td> <td>  776.171</td>\n",
       "</tr>\n",
       "<tr>\n",
       "  <th>ar.S.L96</th>  <td>   -0.4823</td> <td>  609.323</td> <td>   -0.001</td> <td> 0.999</td> <td>-1194.734</td> <td> 1193.769</td>\n",
       "</tr>\n",
       "<tr>\n",
       "  <th>ar.S.L108</th> <td>   -0.0013</td> <td>  291.189</td> <td>-4.58e-06</td> <td> 1.000</td> <td> -570.721</td> <td>  570.719</td>\n",
       "</tr>\n",
       "<tr>\n",
       "  <th>ma.S.L12</th>  <td>   -0.0439</td> <td>  668.027</td> <td>-6.57e-05</td> <td> 1.000</td> <td>-1309.353</td> <td> 1309.265</td>\n",
       "</tr>\n",
       "<tr>\n",
       "  <th>ma.S.L24</th>  <td>   -0.2846</td> <td> 2207.884</td> <td>   -0.000</td> <td> 1.000</td> <td>-4327.657</td> <td> 4327.088</td>\n",
       "</tr>\n",
       "<tr>\n",
       "  <th>sigma2</th>    <td>    6.1033</td> <td> 1.07e+04</td> <td>    0.001</td> <td> 1.000</td> <td> -2.1e+04</td> <td>  2.1e+04</td>\n",
       "</tr>\n",
       "</table>\n",
       "<table class=\"simpletable\">\n",
       "<tr>\n",
       "  <th>Ljung-Box (L1) (Q):</th>     <td>0.00</td> <th>  Jarque-Bera (JB):  </th> <td>15.07</td>\n",
       "</tr>\n",
       "<tr>\n",
       "  <th>Prob(Q):</th>                <td>1.00</td> <th>  Prob(JB):          </th> <td>0.00</td> \n",
       "</tr>\n",
       "<tr>\n",
       "  <th>Heteroskedasticity (H):</th> <td>1.53</td> <th>  Skew:              </th> <td>-0.52</td>\n",
       "</tr>\n",
       "<tr>\n",
       "  <th>Prob(H) (two-sided):</th>    <td>0.31</td> <th>  Kurtosis:          </th> <td>4.99</td> \n",
       "</tr>\n",
       "</table><br/><br/>Warnings:<br/>[1] Covariance matrix calculated using the outer product of gradients (complex-step)."
      ],
      "text/plain": [
       "<class 'statsmodels.iolib.summary.Summary'>\n",
       "\"\"\"\n",
       "                                    SARIMAX Results                                     \n",
       "========================================================================================\n",
       "Dep. Variable:                              AQI   No. Observations:                   84\n",
       "Model:             ARIMA(1, 0, 2)x(9, 1, 2, 12)   Log Likelihood                -253.325\n",
       "Date:                          Sat, 04 Mar 2023   AIC                            536.650\n",
       "Time:                                  18:43:06   BIC                            570.800\n",
       "Sample:                                       0   HQIC                           550.245\n",
       "                                           - 84                                         \n",
       "Covariance Type:                            opg                                         \n",
       "==============================================================================\n",
       "                 coef    std err          z      P>|z|      [0.025      0.975]\n",
       "------------------------------------------------------------------------------\n",
       "ar.L1          0.6346      0.843      0.753      0.451      -1.017       2.286\n",
       "ma.L1         -0.4697      0.798     -0.588      0.556      -2.034       1.095\n",
       "ma.L2          0.0778      0.369      0.211      0.833      -0.645       0.801\n",
       "ar.S.L12      -0.1015    320.282     -0.000      1.000    -627.842     627.639\n",
       "ar.S.L24       0.3496    704.051      0.000      1.000   -1379.565    1380.264\n",
       "ar.S.L36       0.0992    238.987      0.000      1.000    -468.306     468.505\n",
       "ar.S.L48       0.1088    241.465      0.000      1.000    -473.153     473.371\n",
       "ar.S.L60       0.1731    248.703      0.001      0.999    -487.276     487.622\n",
       "ar.S.L72       0.7383    278.005      0.003      0.998    -544.142     545.618\n",
       "ar.S.L84      -0.4363    396.235     -0.001      0.999    -777.043     776.171\n",
       "ar.S.L96      -0.4823    609.323     -0.001      0.999   -1194.734    1193.769\n",
       "ar.S.L108     -0.0013    291.189  -4.58e-06      1.000    -570.721     570.719\n",
       "ma.S.L12      -0.0439    668.027  -6.57e-05      1.000   -1309.353    1309.265\n",
       "ma.S.L24      -0.2846   2207.884     -0.000      1.000   -4327.657    4327.088\n",
       "sigma2         6.1033   1.07e+04      0.001      1.000    -2.1e+04     2.1e+04\n",
       "===================================================================================\n",
       "Ljung-Box (L1) (Q):                   0.00   Jarque-Bera (JB):                15.07\n",
       "Prob(Q):                              1.00   Prob(JB):                         0.00\n",
       "Heteroskedasticity (H):               1.53   Skew:                            -0.52\n",
       "Prob(H) (two-sided):                  0.31   Kurtosis:                         4.99\n",
       "===================================================================================\n",
       "\n",
       "Warnings:\n",
       "[1] Covariance matrix calculated using the outer product of gradients (complex-step).\n",
       "\"\"\""
      ]
     },
     "execution_count": 194,
     "metadata": {},
     "output_type": "execute_result"
    }
   ],
   "source": [
    "model =ARIMA(df,order=(1,0,2),seasonal_order=(9,1,2,12))\n",
    "model_fit =model.fit()\n",
    "model_fit.summary()"
   ]
  },
  {
   "cell_type": "code",
   "execution_count": 195,
   "id": "c9e4c87b",
   "metadata": {},
   "outputs": [
    {
     "name": "stdout",
     "output_type": "stream",
     "text": [
      "The predicted AQI values of each month of 2023 is:\n",
      "     predicted_mean\n",
      "84       58.533014\n",
      "85       58.861653\n",
      "86       61.866185\n",
      "87       56.566041\n",
      "88       50.449540\n",
      "89       78.173005\n",
      "90       52.434473\n",
      "91       55.627883\n",
      "92       57.254471\n",
      "93       58.441925\n",
      "94       59.489815\n",
      "95       60.109325\n"
     ]
    }
   ],
   "source": [
    "pred_new =model_fit.forecast(12)\n",
    "print(\"The predicted AQI values of each month of 2023 is:\\n\",pd.DataFrame(pred_new))"
   ]
  },
  {
   "cell_type": "code",
   "execution_count": 196,
   "id": "4d8f8785",
   "metadata": {},
   "outputs": [
    {
     "data": {
      "text/html": [
       "<div>\n",
       "<style scoped>\n",
       "    .dataframe tbody tr th:only-of-type {\n",
       "        vertical-align: middle;\n",
       "    }\n",
       "\n",
       "    .dataframe tbody tr th {\n",
       "        vertical-align: top;\n",
       "    }\n",
       "\n",
       "    .dataframe thead th {\n",
       "        text-align: right;\n",
       "    }\n",
       "</style>\n",
       "<table border=\"1\" class=\"dataframe\">\n",
       "  <thead>\n",
       "    <tr style=\"text-align: right;\">\n",
       "      <th></th>\n",
       "      <th>AQI</th>\n",
       "    </tr>\n",
       "    <tr>\n",
       "      <th>Date</th>\n",
       "      <th></th>\n",
       "    </tr>\n",
       "  </thead>\n",
       "  <tbody>\n",
       "    <tr>\n",
       "      <th>01-2023</th>\n",
       "      <td>58.533014</td>\n",
       "    </tr>\n",
       "    <tr>\n",
       "      <th>02-2023</th>\n",
       "      <td>58.861653</td>\n",
       "    </tr>\n",
       "    <tr>\n",
       "      <th>03-2023</th>\n",
       "      <td>61.866185</td>\n",
       "    </tr>\n",
       "    <tr>\n",
       "      <th>04-2023</th>\n",
       "      <td>56.566041</td>\n",
       "    </tr>\n",
       "    <tr>\n",
       "      <th>05-2023</th>\n",
       "      <td>50.449540</td>\n",
       "    </tr>\n",
       "    <tr>\n",
       "      <th>06-2023</th>\n",
       "      <td>78.173005</td>\n",
       "    </tr>\n",
       "    <tr>\n",
       "      <th>07-2023</th>\n",
       "      <td>52.434473</td>\n",
       "    </tr>\n",
       "    <tr>\n",
       "      <th>08-2023</th>\n",
       "      <td>55.627883</td>\n",
       "    </tr>\n",
       "    <tr>\n",
       "      <th>09-2023</th>\n",
       "      <td>57.254471</td>\n",
       "    </tr>\n",
       "    <tr>\n",
       "      <th>10-2023</th>\n",
       "      <td>58.441925</td>\n",
       "    </tr>\n",
       "    <tr>\n",
       "      <th>11-2023</th>\n",
       "      <td>59.489815</td>\n",
       "    </tr>\n",
       "    <tr>\n",
       "      <th>12-2023</th>\n",
       "      <td>60.109325</td>\n",
       "    </tr>\n",
       "  </tbody>\n",
       "</table>\n",
       "</div>"
      ],
      "text/plain": [
       "               AQI\n",
       "Date              \n",
       "01-2023  58.533014\n",
       "02-2023  58.861653\n",
       "03-2023  61.866185\n",
       "04-2023  56.566041\n",
       "05-2023  50.449540\n",
       "06-2023  78.173005\n",
       "07-2023  52.434473\n",
       "08-2023  55.627883\n",
       "09-2023  57.254471\n",
       "10-2023  58.441925\n",
       "11-2023  59.489815\n",
       "12-2023  60.109325"
      ]
     },
     "execution_count": 196,
     "metadata": {},
     "output_type": "execute_result"
    }
   ],
   "source": [
    "res=pd.DataFrame(pred_new)\n",
    "res.columns=[\"AQI\"]\n",
    "time_list=['1-1-2023','1-2-2023','1-3-2023','1-4-2023','1-5-2023','1-6-2023','1-7-2023','1-8-2023','1-9-2023','1-10-2023','1-11-2023','1-12-2023']\n",
    "res[\"AQI\"]=pred_new\n",
    "res[\"Date\"]=time_list\n",
    "res[\"Date\"]=pd.to_datetime(res[\"Date\"])\n",
    "res['Date'] = pd.to_datetime(res['Date'], format='%Y-%d-%m').dt.strftime('%d-%Y')\n",
    "res=res.set_index(\"Date\")\n",
    "res"
   ]
  },
  {
   "cell_type": "code",
   "execution_count": 197,
   "id": "8cdc995a",
   "metadata": {},
   "outputs": [
    {
     "data": {
      "image/png": "[encoded data removed]",
      "text/plain": [
       "<Figure size 640x480 with 1 Axes>"
      ]
     },
     "metadata": {},
     "output_type": "display_data"
    }
   ],
   "source": [
    "fig, ax = plt.subplots()\n",
    "ax.plot_date(df1[\"Date\"],y, marker='', linestyle='-')\n",
    "plt.plot(res,c='g')\n",
    "\n",
    "fig.autofmt_xdate()\n",
    "\n",
    "\n",
    "plt.title(\"AQI levels of Nizamabad for each month between 2016 and 2022\",c='b')\n",
    "plt.xlabel(\"Years\")\n",
    "plt.ylabel(\"AQI levels\")\n",
    "\n",
    "plt.setp(ax.get_xticklabels(), rotation=60, horizontalalignment='right')\n",
    "for label in (ax.get_xticklabels() + ax.get_yticklabels()):label.set_fontsize(4)\n",
    "plt.show()\n"
   ]
  },
  {
   "cell_type": "code",
   "execution_count": null,
   "id": "9100b5f7",
   "metadata": {},
   "outputs": [],
   "source": []
  },
  {
   "cell_type": "code",
   "execution_count": null,
   "id": "94a1b32d",
   "metadata": {},
   "outputs": [],
   "source": []
  }
 ],
 "metadata": {
  "kernelspec": {
   "display_name": "Python 3 (ipykernel)",
   "language": "python",
   "name": "python3"
  },
  "language_info": {
   "codemirror_mode": {
    "name": "ipython",
    "version": 3
   },
   "file_extension": ".py",
   "mimetype": "text/x-python",
   "name": "python",
   "nbconvert_exporter": "python",
   "pygments_lexer": "ipython3",
   "version": "3.9.12"
  }
 },
 "nbformat": 4,
 "nbformat_minor": 5
}
